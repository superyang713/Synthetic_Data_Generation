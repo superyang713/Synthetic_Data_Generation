{
 "cells": [
  {
   "cell_type": "code",
   "execution_count": 2,
   "metadata": {
    "autoscroll": false,
    "collapsed": false,
    "ein.hycell": false,
    "ein.tags": "worksheet-0",
    "slideshow": {
     "slide_type": "-"
    }
   },
   "outputs": [],
   "source": [
    "import pandas as pd\n",
    "import numpy as np"
   ]
  },
  {
   "cell_type": "markdown",
   "metadata": {
    "ein.tags": "worksheet-0",
    "slideshow": {
     "slide_type": "-"
    }
   },
   "source": [
    "# Load data. \n",
    "Previously when loading data, Column (15) -- Family Income has mixed types. To remove this waring, spcifically define Family Income column as object type."
   ]
  },
  {
   "cell_type": "code",
   "execution_count": 3,
   "metadata": {
    "autoscroll": false,
    "collapsed": false,
    "ein.hycell": false,
    "ein.tags": "worksheet-0",
    "slideshow": {
     "slide_type": "-"
    }
   },
   "outputs": [],
   "source": [
    "data_demo = pd.read_csv(\"data/demographics.csv\", dtype={\"Family Income\": \"object\"})"
   ]
  },
  {
   "cell_type": "markdown",
   "metadata": {
    "ein.tags": "worksheet-0",
    "slideshow": {
     "slide_type": "-"
    }
   },
   "source": [
    "## Explore demographics data"
   ]
  },
  {
   "cell_type": "code",
   "execution_count": 5,
   "metadata": {
    "autoscroll": false,
    "collapsed": false,
    "ein.hycell": false,
    "ein.tags": "worksheet-0",
    "scrolled": false,
    "slideshow": {
     "slide_type": "-"
    }
   },
   "outputs": [
    {
     "data": {
      "text/html": [
       "<div>\n<style scoped>\n    .dataframe tbody tr th:only-of-type {\n        vertical-align: middle;\n    }\n\n    .dataframe tbody tr th {\n        vertical-align: top;\n    }\n\n    .dataframe thead th {\n        text-align: right;\n    }\n</style>\n<table border=\"1\" class=\"dataframe\">\n  <thead>\n    <tr style=\"text-align: right;\">\n      <th></th>\n      <th>ID</th>\n      <th>PostCode</th>\n      <th>Lat</th>\n      <th>Long</th>\n      <th>Province</th>\n      <th>Population Count</th>\n      <th>Age</th>\n      <th>Gender</th>\n      <th>Ethnicity</th>\n      <th>Religion</th>\n      <th>...</th>\n      <th>Immigration</th>\n      <th>Commute</th>\n      <th>Marital Status</th>\n      <th>Family Size</th>\n      <th>Dwelling</th>\n      <th>Ownership</th>\n      <th>Education</th>\n      <th>Profession</th>\n      <th>Income</th>\n      <th>Family Income</th>\n    </tr>\n  </thead>\n  <tbody>\n    <tr>\n      <td>0</td>\n      <td>V8A3P8-0</td>\n      <td>V8A3P8</td>\n      <td>49.8627</td>\n      <td>-124.5191</td>\n      <td>BC</td>\n      <td>1</td>\n      <td>40 to 44 years</td>\n      <td>Female</td>\n      <td>British</td>\n      <td>No religious affiliation</td>\n      <td>...</td>\n      <td>Native</td>\n      <td>Car (driver)</td>\n      <td>Married</td>\n      <td>4 persons</td>\n      <td>Single-detached house</td>\n      <td>Owned</td>\n      <td>Bachelor's degree or above</td>\n      <td>Accommodation and food services</td>\n      <td>$20,000 to $29,999</td>\n      <td>$25,000 to $29,999</td>\n    </tr>\n    <tr>\n      <td>1</td>\n      <td>V8A3P8-1</td>\n      <td>V8A3P8</td>\n      <td>49.8627</td>\n      <td>-124.5191</td>\n      <td>BC</td>\n      <td>1</td>\n      <td>55 to 59 years</td>\n      <td>Female</td>\n      <td>Northern European</td>\n      <td>Christian</td>\n      <td>...</td>\n      <td>Native</td>\n      <td>Car (driver)</td>\n      <td>Divorced</td>\n      <td>1 person</td>\n      <td>Single-detached house</td>\n      <td>Rented</td>\n      <td>Apprenticeship or trades certificate or diploma</td>\n      <td>Health care and social assistance</td>\n      <td>$10,000 to $19,999</td>\n      <td>$15,000 to $19,999</td>\n    </tr>\n    <tr>\n      <td>2</td>\n      <td>V8A3P8-2</td>\n      <td>V8A3P8</td>\n      <td>49.8627</td>\n      <td>-124.5191</td>\n      <td>BC</td>\n      <td>1</td>\n      <td>60 to 64 years</td>\n      <td>Female</td>\n      <td>British</td>\n      <td>No religious affiliation</td>\n      <td>...</td>\n      <td>Native</td>\n      <td>Car (driver)</td>\n      <td>Married</td>\n      <td>2 persons</td>\n      <td>Single-detached house</td>\n      <td>Owned</td>\n      <td>Secondary school</td>\n      <td>Retail trade</td>\n      <td>$60,000 to $69,999</td>\n      <td>$90,000 to $99,999</td>\n    </tr>\n    <tr>\n      <td>3</td>\n      <td>V8A3P8-3</td>\n      <td>V8A3P8</td>\n      <td>49.8627</td>\n      <td>-124.5191</td>\n      <td>BC</td>\n      <td>1</td>\n      <td>65 years and over</td>\n      <td>Female</td>\n      <td>French</td>\n      <td>Christian</td>\n      <td>...</td>\n      <td>Native</td>\n      <td>Car (driver)</td>\n      <td>Widowed</td>\n      <td>3 persons</td>\n      <td>Single-detached house</td>\n      <td>Owned</td>\n      <td>College</td>\n      <td>Health care and social assistance</td>\n      <td>$30,000 to $39,999</td>\n      <td>$30,000 to $34,999</td>\n    </tr>\n    <tr>\n      <td>4</td>\n      <td>V8A3P8-4</td>\n      <td>V8A3P8</td>\n      <td>49.8627</td>\n      <td>-124.5191</td>\n      <td>BC</td>\n      <td>1</td>\n      <td>65 years and over</td>\n      <td>Female</td>\n      <td>North American</td>\n      <td>Christian</td>\n      <td>...</td>\n      <td>Native</td>\n      <td>Car (passenger)</td>\n      <td>Widowed</td>\n      <td>3 persons</td>\n      <td>Single-detached house</td>\n      <td>Rented</td>\n      <td>No certificate, diploma or degree</td>\n      <td>Retail trade</td>\n      <td>Under $10,000 (including loss)</td>\n      <td>$45,000 to $49,999</td>\n    </tr>\n  </tbody>\n</table>\n<p>5 rows × 21 columns</p>\n</div>"
      ],
      "text/plain": [
       "         ID PostCode      Lat      Long Province  Population Count  \\\n0  V8A3P8-0   V8A3P8  49.8627 -124.5191       BC                 1   \n1  V8A3P8-1   V8A3P8  49.8627 -124.5191       BC                 1   \n2  V8A3P8-2   V8A3P8  49.8627 -124.5191       BC                 1   \n3  V8A3P8-3   V8A3P8  49.8627 -124.5191       BC                 1   \n4  V8A3P8-4   V8A3P8  49.8627 -124.5191       BC                 1   \n\n                 Age  Gender          Ethnicity                  Religion  \\\n0     40 to 44 years  Female            British  No religious affiliation   \n1     55 to 59 years  Female  Northern European                 Christian   \n2     60 to 64 years  Female            British  No religious affiliation   \n3  65 years and over  Female             French                 Christian   \n4  65 years and over  Female     North American                 Christian   \n\n   ... Immigration          Commute Marital Status Family Size  \\\n0  ...      Native     Car (driver)        Married   4 persons   \n1  ...      Native     Car (driver)       Divorced    1 person   \n2  ...      Native     Car (driver)        Married   2 persons   \n3  ...      Native     Car (driver)        Widowed   3 persons   \n4  ...      Native  Car (passenger)        Widowed   3 persons   \n\n                Dwelling Ownership  \\\n0  Single-detached house     Owned   \n1  Single-detached house    Rented   \n2  Single-detached house     Owned   \n3  Single-detached house     Owned   \n4  Single-detached house    Rented   \n\n                                         Education  \\\n0                       Bachelor's degree or above   \n1  Apprenticeship or trades certificate or diploma   \n2                                 Secondary school   \n3                                          College   \n4                No certificate, diploma or degree   \n\n                          Profession                          Income  \\\n0    Accommodation and food services              $20,000 to $29,999   \n1  Health care and social assistance              $10,000 to $19,999   \n2                       Retail trade              $60,000 to $69,999   \n3  Health care and social assistance              $30,000 to $39,999   \n4                       Retail trade  Under $10,000 (including loss)   \n\n        Family Income  \n0  $25,000 to $29,999  \n1  $15,000 to $19,999  \n2  $90,000 to $99,999  \n3  $30,000 to $34,999  \n4  $45,000 to $49,999  \n\n[5 rows x 21 columns]"
      ]
     },
     "execution_count": 5,
     "metadata": {},
     "output_type": "execute_result"
    }
   ],
   "source": [
    "data_demo.head()"
   ]
  },
  {
   "cell_type": "code",
   "execution_count": 6,
   "metadata": {
    "autoscroll": false,
    "collapsed": false,
    "ein.hycell": false,
    "ein.tags": "worksheet-0",
    "slideshow": {
     "slide_type": "-"
    }
   },
   "outputs": [
    {
     "name": "stdout",
     "output_type": "stream",
     "text": [
      "<class 'pandas.core.frame.DataFrame'>\n",
      "RangeIndex: 29115178 entries, 0 to 29115177\n",
      "Data columns (total 21 columns):\n",
      "ID                  object\n",
      "PostCode            object\n",
      "Lat                 float64\n",
      "Long                float64\n",
      "Province            object\n",
      "Population Count    int64\n",
      "Age                 object\n",
      "Gender              object\n",
      "Ethnicity           object\n",
      "Religion            object\n",
      "Language            object\n",
      "Immigration         object\n",
      "Commute             object\n",
      "Marital Status      object\n",
      "Family Size         object\n",
      "Dwelling            object\n",
      "Ownership           object\n",
      "Education           object\n",
      "Profession          object\n",
      "Income              object\n",
      "Family Income       object\n",
      "dtypes: float64(2), int64(1), object(18)\n",
      "memory usage: 4.6+ GB\n"
     ]
    }
   ],
   "source": [
    "data_demo.info()"
   ]
  },
  {
   "cell_type": "code",
   "execution_count": 7,
   "metadata": {
    "autoscroll": false,
    "collapsed": false,
    "ein.hycell": false,
    "ein.tags": "worksheet-0",
    "slideshow": {
     "slide_type": "-"
    }
   },
   "outputs": [
    {
     "data": {
      "text/plain": [
       "False"
      ]
     },
     "execution_count": 7,
     "metadata": {},
     "output_type": "execute_result"
    }
   ],
   "source": [
    "# Check if there are any missing values.\n",
    "data_demo.isnull().values.any()"
   ]
  },
  {
   "cell_type": "code",
   "execution_count": 8,
   "metadata": {
    "autoscroll": false,
    "collapsed": false,
    "ein.hycell": false,
    "ein.tags": "worksheet-0",
    "slideshow": {
     "slide_type": "-"
    }
   },
   "outputs": [
    {
     "data": {
      "text/plain": [
       "array(['No religious affiliation', 'Christian', 'Muslim', 'Hindu',\n       'Buddhist', 'Sikh', 'Traditional (Aboriginal) Spirituality',\n       'Other religions', 'Jewish'], dtype=object)"
      ]
     },
     "execution_count": 8,
     "metadata": {},
     "output_type": "execute_result"
    }
   ],
   "source": [
    "data_demo.Religion.unique()"
   ]
  },
  {
   "cell_type": "code",
   "execution_count": 9,
   "metadata": {
    "autoscroll": false,
    "collapsed": false,
    "ein.hycell": false,
    "ein.tags": "worksheet-0",
    "slideshow": {
     "slide_type": "-"
    }
   },
   "outputs": [
    {
     "data": {
      "text/plain": [
       "array(['British', 'Northern European', 'French', 'North American',\n       'Western European', 'Southern European', 'Eastern European',\n       'Latin, Central and South American', 'Caribbean', 'African',\n       'East and Southeast Asian origins', 'Middle Eastern', 'Aboriginal',\n       'South Asian'], dtype=object)"
      ]
     },
     "execution_count": 9,
     "metadata": {},
     "output_type": "execute_result"
    }
   ],
   "source": [
    "data_demo.Ethnicity.unique()"
   ]
  },
  {
   "cell_type": "code",
   "execution_count": 11,
   "metadata": {
    "autoscroll": false,
    "collapsed": false,
    "ein.hycell": false,
    "ein.tags": "worksheet-0",
    "slideshow": {
     "slide_type": "-"
    }
   },
   "outputs": [
    {
     "data": {
      "text/plain": [
       "array(['BC', 'QC', 'ON', 'NS', 'AB', 'SK', 'MB', 'NB', 'NL', 'PE', 'NT',\n       'YT'], dtype=object)"
      ]
     },
     "execution_count": 11,
     "metadata": {},
     "output_type": "execute_result"
    }
   ],
   "source": [
    "data_demo.Province.unique()"
   ]
  },
  {
   "cell_type": "code",
   "execution_count": 12,
   "metadata": {
    "autoscroll": false,
    "collapsed": false,
    "ein.hycell": false,
    "ein.tags": "worksheet-0",
    "slideshow": {
     "slide_type": "-"
    }
   },
   "outputs": [
    {
     "data": {
      "text/plain": [
       "array(['English', 'Non-official languages', 'French'], dtype=object)"
      ]
     },
     "execution_count": 12,
     "metadata": {},
     "output_type": "execute_result"
    }
   ],
   "source": [
    "data_demo.Language.unique()"
   ]
  },
  {
   "cell_type": "code",
   "execution_count": 13,
   "metadata": {
    "autoscroll": false,
    "collapsed": false,
    "ein.hycell": false,
    "ein.tags": "worksheet-0",
    "slideshow": {
     "slide_type": "-"
    }
   },
   "outputs": [
    {
     "data": {
      "text/plain": [
       "array(['Native', 'Immigrants'], dtype=object)"
      ]
     },
     "execution_count": 13,
     "metadata": {},
     "output_type": "execute_result"
    }
   ],
   "source": [
    "data_demo.Immigration.unique()"
   ]
  },
  {
   "cell_type": "code",
   "execution_count": 14,
   "metadata": {
    "autoscroll": false,
    "collapsed": false,
    "ein.hycell": false,
    "ein.tags": "worksheet-0",
    "slideshow": {
     "slide_type": "-"
    }
   },
   "outputs": [
    {
     "data": {
      "text/plain": [
       "array(['Car (driver)', 'Car (passenger)', 'Public transit', 'Bicycle',\n       'Walked', 'Other method'], dtype=object)"
      ]
     },
     "execution_count": 14,
     "metadata": {},
     "output_type": "execute_result"
    }
   ],
   "source": [
    "data_demo.Commute.unique()"
   ]
  },
  {
   "cell_type": "code",
   "execution_count": 15,
   "metadata": {
    "autoscroll": false,
    "collapsed": false,
    "ein.hycell": false,
    "ein.tags": "worksheet-0",
    "slideshow": {
     "slide_type": "-"
    }
   },
   "outputs": [
    {
     "data": {
      "text/plain": [
       "array(['Married', 'Divorced', 'Widowed', 'Living common law',\n       'Never married', 'Separated'], dtype=object)"
      ]
     },
     "execution_count": 15,
     "metadata": {},
     "output_type": "execute_result"
    }
   ],
   "source": [
    "data_demo[\"Marital Status\"].unique()"
   ]
  },
  {
   "cell_type": "code",
   "execution_count": 16,
   "metadata": {
    "autoscroll": false,
    "collapsed": false,
    "ein.hycell": false,
    "ein.tags": "worksheet-0",
    "slideshow": {
     "slide_type": "-"
    }
   },
   "outputs": [
    {
     "data": {
      "text/plain": [
       "array(['4 persons', '1 person', '2 persons', '3 persons',\n       '5 or more persons'], dtype=object)"
      ]
     },
     "execution_count": 16,
     "metadata": {},
     "output_type": "execute_result"
    }
   ],
   "source": [
    "data_demo[\"Family Size\"].unique()"
   ]
  },
  {
   "cell_type": "code",
   "execution_count": 17,
   "metadata": {
    "autoscroll": false,
    "collapsed": false,
    "ein.hycell": false,
    "ein.tags": "worksheet-0",
    "slideshow": {
     "slide_type": "-"
    }
   },
   "outputs": [
    {
     "data": {
      "text/plain": [
       "array(['Single-detached house', 'Other', 'Apartment'], dtype=object)"
      ]
     },
     "execution_count": 17,
     "metadata": {},
     "output_type": "execute_result"
    }
   ],
   "source": [
    "data_demo.Dwelling.unique()"
   ]
  },
  {
   "cell_type": "code",
   "execution_count": 18,
   "metadata": {
    "autoscroll": false,
    "collapsed": false,
    "ein.hycell": false,
    "ein.tags": "worksheet-0",
    "slideshow": {
     "slide_type": "-"
    }
   },
   "outputs": [
    {
     "data": {
      "text/plain": [
       "array(['Owned', 'Rented'], dtype=object)"
      ]
     },
     "execution_count": 18,
     "metadata": {},
     "output_type": "execute_result"
    }
   ],
   "source": [
    "data_demo.Ownership.unique()"
   ]
  },
  {
   "cell_type": "code",
   "execution_count": 19,
   "metadata": {
    "autoscroll": false,
    "collapsed": false,
    "ein.hycell": false,
    "ein.tags": "worksheet-0",
    "slideshow": {
     "slide_type": "-"
    }
   },
   "outputs": [
    {
     "data": {
      "text/plain": [
       "array([\"Bachelor's degree or above\",\n       'Apprenticeship or trades certificate or diploma',\n       'Secondary school', 'College', 'No certificate, diploma or degree'],\n      dtype=object)"
      ]
     },
     "execution_count": 19,
     "metadata": {},
     "output_type": "execute_result"
    }
   ],
   "source": [
    "data_demo.Education.unique()"
   ]
  },
  {
   "cell_type": "code",
   "execution_count": 20,
   "metadata": {
    "autoscroll": false,
    "collapsed": false,
    "ein.hycell": false,
    "ein.tags": "worksheet-0",
    "slideshow": {
     "slide_type": "-"
    }
   },
   "outputs": [
    {
     "data": {
      "text/plain": [
       "array(['Accommodation and food services',\n       'Health care and social assistance', 'Retail trade',\n       'Manufacturing',\n       'Administrative and support, waste management and remediation services',\n       'Construction', 'Other services (except public administration)',\n       'Finance and insurance', 'Public administration',\n       'Educational services', 'Wholesale trade',\n       'Transportation and warehousing',\n       'Professional, scientific and technical services',\n       'Real estate and rental and leasing',\n       'Agriculture, forestry, fishing and hunting',\n       'Arts, entertainment and recreation',\n       'Mining, quarrying, and oil and gas extraction',\n       'Information and cultural industries', 'Utilities',\n       'Management of companies and enterprises'], dtype=object)"
      ]
     },
     "execution_count": 20,
     "metadata": {},
     "output_type": "execute_result"
    }
   ],
   "source": [
    "data_demo.Profession.unique()"
   ]
  },
  {
   "cell_type": "code",
   "execution_count": 21,
   "metadata": {
    "autoscroll": false,
    "collapsed": false,
    "ein.hycell": false,
    "ein.tags": "worksheet-0",
    "slideshow": {
     "slide_type": "-"
    }
   },
   "outputs": [
    {
     "data": {
      "text/plain": [
       "array(['40 to 44 years', '55 to 59 years', '60 to 64 years',\n       '65 years and over', '25 to 29 years', '20 to 24 years',\n       '30 to 34 years', '45 to 49 years', '50 to 54 years',\n       '35 to 39 years'], dtype=object)"
      ]
     },
     "execution_count": 21,
     "metadata": {},
     "output_type": "execute_result"
    }
   ],
   "source": [
    "data_demo.Age.unique()"
   ]
  },
  {
   "cell_type": "code",
   "execution_count": 22,
   "metadata": {
    "autoscroll": false,
    "collapsed": false,
    "ein.hycell": false,
    "ein.tags": "worksheet-0",
    "slideshow": {
     "slide_type": "-"
    }
   },
   "outputs": [
    {
     "data": {
      "text/plain": [
       "array(['Female', 'Male'], dtype=object)"
      ]
     },
     "execution_count": 22,
     "metadata": {},
     "output_type": "execute_result"
    }
   ],
   "source": [
    "data_demo.Gender.unique()"
   ]
  },
  {
   "cell_type": "markdown",
   "metadata": {
    "ein.tags": "worksheet-0",
    "slideshow": {
     "slide_type": "-"
    }
   },
   "source": [
    "# There are four types of data:\n",
    "1. Ordinal data: Family Size, Education.\n",
    "2. Nominal data: Ethnicity,\tReligion, Language, Immigration, Commute, Marital Status, Dwelling,\tOwnership, Profession\t\n",
    "3. Numerical data: Income, Family Income\n"
   ]
  }
 ],
 "metadata": {
  "kernelspec": {
   "argv": [
    "python",
    "-m",
    "ipykernel_launcher",
    "-f",
    "{connection_file}"
   ],
   "display_name": "Python 3",
   "env": null,
   "interrupt_mode": "signal",
   "language": "python",
   "metadata": null,
   "name": "python3"
  },
  "language_info": {
   "codemirror_mode": {
    "name": "ipython",
    "version": 3
   },
   "file_extension": ".py",
   "mimetype": "text/x-python",
   "name": "python",
   "nbconvert_exporter": "python",
   "pygments_lexer": "ipython3",
   "version": "3.7.3"
  },
  "name": "demographics_data_preprocessing_1.ipynb"
 },
 "nbformat": 4,
 "nbformat_minor": 2
}
