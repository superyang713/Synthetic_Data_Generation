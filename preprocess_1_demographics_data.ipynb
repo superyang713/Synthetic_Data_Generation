{
 "cells": [
  {
   "cell_type": "code",
   "execution_count": 1,
   "metadata": {},
   "outputs": [],
   "source": [
    "import pandas as pd\n",
    "import numpy as np"
   ]
  },
  {
   "cell_type": "markdown",
   "metadata": {},
   "source": [
    "# Load data. \n",
    "Previously when loading data, Column (15) -- Family Income has mixed types. To remove this waring, spcifically define Family Income column as object type."
   ]
  },
  {
   "cell_type": "code",
   "execution_count": 2,
   "metadata": {},
   "outputs": [],
   "source": [
    "data_demo = pd.read_csv(\"data/demographics\", dtype={\"Family Income\": \"object\"})"
   ]
  },
  {
   "cell_type": "markdown",
   "metadata": {},
   "source": [
    "## Explore demographics data"
   ]
  },
  {
   "cell_type": "code",
   "execution_count": 5,
   "metadata": {
    "scrolled": false
   },
   "outputs": [
    {
     "data": {
      "text/html": [
       "<div>\n",
       "<style scoped>\n",
       "    .dataframe tbody tr th:only-of-type {\n",
       "        vertical-align: middle;\n",
       "    }\n",
       "\n",
       "    .dataframe tbody tr th {\n",
       "        vertical-align: top;\n",
       "    }\n",
       "\n",
       "    .dataframe thead th {\n",
       "        text-align: right;\n",
       "    }\n",
       "</style>\n",
       "<table border=\"1\" class=\"dataframe\">\n",
       "  <thead>\n",
       "    <tr style=\"text-align: right;\">\n",
       "      <th></th>\n",
       "      <th>ID</th>\n",
       "      <th>PostCode</th>\n",
       "      <th>Demographics</th>\n",
       "      <th>Ethnicity</th>\n",
       "      <th>Religion</th>\n",
       "      <th>Language</th>\n",
       "      <th>Immigration</th>\n",
       "      <th>Commute</th>\n",
       "      <th>Marital Status</th>\n",
       "      <th>Family Size</th>\n",
       "      <th>Dwelling</th>\n",
       "      <th>Ownership</th>\n",
       "      <th>Education</th>\n",
       "      <th>Profession</th>\n",
       "      <th>Income</th>\n",
       "      <th>Family Income</th>\n",
       "    </tr>\n",
       "  </thead>\n",
       "  <tbody>\n",
       "    <tr>\n",
       "      <th>0</th>\n",
       "      <td>E1V6V5-0</td>\n",
       "      <td>E1V6V5</td>\n",
       "      <td>25 to 29 years-Female</td>\n",
       "      <td>North American</td>\n",
       "      <td>Christian</td>\n",
       "      <td>English</td>\n",
       "      <td>Non-immigrants</td>\n",
       "      <td>Car, truck, van - as a driver</td>\n",
       "      <td>Married</td>\n",
       "      <td>1 person</td>\n",
       "      <td>Single-detached house</td>\n",
       "      <td>Owned</td>\n",
       "      <td>Postsecondary</td>\n",
       "      <td>62 Health care and social assistance</td>\n",
       "      <td>34560</td>\n",
       "      <td>150658</td>\n",
       "    </tr>\n",
       "    <tr>\n",
       "      <th>1</th>\n",
       "      <td>E1V6V5-1</td>\n",
       "      <td>E1V6V5</td>\n",
       "      <td>45 to 49 years-Male</td>\n",
       "      <td>British</td>\n",
       "      <td>Christian</td>\n",
       "      <td>French</td>\n",
       "      <td>Non-immigrants</td>\n",
       "      <td>Car, truck, van - as a driver</td>\n",
       "      <td>Married</td>\n",
       "      <td>2 persons</td>\n",
       "      <td>Single-detached house</td>\n",
       "      <td>Owned</td>\n",
       "      <td>Postsecondary</td>\n",
       "      <td>56 Administrative and support, waste managemen...</td>\n",
       "      <td>57785</td>\n",
       "      <td>78950</td>\n",
       "    </tr>\n",
       "    <tr>\n",
       "      <th>2</th>\n",
       "      <td>A0A0B7-0</td>\n",
       "      <td>A0A0B7</td>\n",
       "      <td>30 to 34 years-Female</td>\n",
       "      <td>British</td>\n",
       "      <td>Christian</td>\n",
       "      <td>English and non-official language</td>\n",
       "      <td>Non-immigrants</td>\n",
       "      <td>Car, truck, van - as a driver</td>\n",
       "      <td>Married</td>\n",
       "      <td>1 person</td>\n",
       "      <td>Single-detached house</td>\n",
       "      <td>Owned</td>\n",
       "      <td>College</td>\n",
       "      <td>31-33 Manufacturing</td>\n",
       "      <td>44055</td>\n",
       "      <td>111262</td>\n",
       "    </tr>\n",
       "    <tr>\n",
       "      <th>3</th>\n",
       "      <td>A0A0B7-1</td>\n",
       "      <td>A0A0B7</td>\n",
       "      <td>35 to 39 years-Male</td>\n",
       "      <td>North American</td>\n",
       "      <td>Christian</td>\n",
       "      <td>English and non-official language</td>\n",
       "      <td>Non-immigrants</td>\n",
       "      <td>Car, truck, van - as a driver</td>\n",
       "      <td>Married</td>\n",
       "      <td>2 persons</td>\n",
       "      <td>Single-detached house</td>\n",
       "      <td>Owned</td>\n",
       "      <td>Postsecondary</td>\n",
       "      <td>44-45 Retail trade</td>\n",
       "      <td>35954</td>\n",
       "      <td>64925</td>\n",
       "    </tr>\n",
       "    <tr>\n",
       "      <th>4</th>\n",
       "      <td>E4T0C1-0</td>\n",
       "      <td>E4T0C1</td>\n",
       "      <td>60 to 64 years-Female</td>\n",
       "      <td>North American</td>\n",
       "      <td>Christian</td>\n",
       "      <td>French</td>\n",
       "      <td>Non-immigrants</td>\n",
       "      <td>Car, truck, van - as a driver</td>\n",
       "      <td>Married</td>\n",
       "      <td>2 persons</td>\n",
       "      <td>Single-detached house</td>\n",
       "      <td>Owned</td>\n",
       "      <td>Secondary school</td>\n",
       "      <td>21 Mining, quarrying, and oil and gas extraction</td>\n",
       "      <td>59829</td>\n",
       "      <td>154926</td>\n",
       "    </tr>\n",
       "  </tbody>\n",
       "</table>\n",
       "</div>"
      ],
      "text/plain": [
       "         ID PostCode           Demographics       Ethnicity   Religion  \\\n",
       "0  E1V6V5-0   E1V6V5  25 to 29 years-Female  North American  Christian   \n",
       "1  E1V6V5-1   E1V6V5    45 to 49 years-Male         British  Christian   \n",
       "2  A0A0B7-0   A0A0B7  30 to 34 years-Female         British  Christian   \n",
       "3  A0A0B7-1   A0A0B7    35 to 39 years-Male  North American  Christian   \n",
       "4  E4T0C1-0   E4T0C1  60 to 64 years-Female  North American  Christian   \n",
       "\n",
       "                            Language     Immigration  \\\n",
       "0                            English  Non-immigrants   \n",
       "1                             French  Non-immigrants   \n",
       "2  English and non-official language  Non-immigrants   \n",
       "3  English and non-official language  Non-immigrants   \n",
       "4                             French  Non-immigrants   \n",
       "\n",
       "                         Commute Marital Status Family Size  \\\n",
       "0  Car, truck, van - as a driver        Married    1 person   \n",
       "1  Car, truck, van - as a driver        Married   2 persons   \n",
       "2  Car, truck, van - as a driver        Married    1 person   \n",
       "3  Car, truck, van - as a driver        Married   2 persons   \n",
       "4  Car, truck, van - as a driver        Married   2 persons   \n",
       "\n",
       "                Dwelling Ownership         Education  \\\n",
       "0  Single-detached house     Owned     Postsecondary   \n",
       "1  Single-detached house     Owned     Postsecondary   \n",
       "2  Single-detached house     Owned           College   \n",
       "3  Single-detached house     Owned     Postsecondary   \n",
       "4  Single-detached house     Owned  Secondary school   \n",
       "\n",
       "                                          Profession  Income Family Income  \n",
       "0               62 Health care and social assistance   34560        150658  \n",
       "1  56 Administrative and support, waste managemen...   57785         78950  \n",
       "2                                31-33 Manufacturing   44055        111262  \n",
       "3                                 44-45 Retail trade   35954         64925  \n",
       "4   21 Mining, quarrying, and oil and gas extraction   59829        154926  "
      ]
     },
     "execution_count": 5,
     "metadata": {},
     "output_type": "execute_result"
    }
   ],
   "source": [
    "data_demo.head()"
   ]
  },
  {
   "cell_type": "code",
   "execution_count": 4,
   "metadata": {},
   "outputs": [
    {
     "name": "stdout",
     "output_type": "stream",
     "text": [
      "<class 'pandas.core.frame.DataFrame'>\n",
      "RangeIndex: 29115181 entries, 0 to 29115180\n",
      "Data columns (total 16 columns):\n",
      "ID                object\n",
      "PostCode          object\n",
      "Demographics      object\n",
      "Ethnicity         object\n",
      "Religion          object\n",
      "Language          object\n",
      "Immigration       object\n",
      "Commute           object\n",
      "Marital Status    object\n",
      "Family Size       object\n",
      "Dwelling          object\n",
      "Ownership         object\n",
      "Education         object\n",
      "Profession        object\n",
      "Income            int64\n",
      "Family Income     object\n",
      "dtypes: int64(1), object(15)\n",
      "memory usage: 3.5+ GB\n"
     ]
    }
   ],
   "source": [
    "data_demo.info()"
   ]
  },
  {
   "cell_type": "code",
   "execution_count": 5,
   "metadata": {},
   "outputs": [
    {
     "data": {
      "text/plain": [
       "False"
      ]
     },
     "execution_count": 5,
     "metadata": {},
     "output_type": "execute_result"
    }
   ],
   "source": [
    "# Check if there are any missing values.\n",
    "data_demo.isnull().values.any()"
   ]
  },
  {
   "cell_type": "code",
   "execution_count": 6,
   "metadata": {},
   "outputs": [
    {
     "data": {
      "text/plain": [
       "array(['Christian', 'No religious affiliation', 'Muslim', 'Buddhist',\n",
       "       'Traditional (Aboriginal) Spirituality', 'Hindu', 'Jewish',\n",
       "       'Other religions', 'Sikh'], dtype=object)"
      ]
     },
     "execution_count": 6,
     "metadata": {},
     "output_type": "execute_result"
    }
   ],
   "source": [
    "data_demo.Religion.unique()"
   ]
  },
  {
   "cell_type": "code",
   "execution_count": 7,
   "metadata": {},
   "outputs": [
    {
     "data": {
      "text/plain": [
       "array(['North American', 'British', 'French', 'Western European',\n",
       "       'Latin, Central and South American', 'Eastern European',\n",
       "       'Aboriginal', 'Other European origins', 'Southern European',\n",
       "       'Middle Eastern', 'African', 'Chinese', 'Caribbean', 'Oceania',\n",
       "       'Northern European', 'Vietnamese', 'South Asian', 'Malaysian',\n",
       "       'Korean', 'Japanese', 'Filipino', 'Indonesian'], dtype=object)"
      ]
     },
     "execution_count": 7,
     "metadata": {},
     "output_type": "execute_result"
    }
   ],
   "source": [
    "data_demo.Ethnicity.unique()"
   ]
  },
  {
   "cell_type": "code",
   "execution_count": 8,
   "metadata": {},
   "outputs": [
    {
     "data": {
      "text/plain": [
       "array(['25 to 29 years-Female', '45 to 49 years-Male',\n",
       "       '30 to 34 years-Female', '35 to 39 years-Male',\n",
       "       '60 to 64 years-Female', '65 years and over-Female',\n",
       "       '20 to 24 years-Female', '35 to 39 years-Female',\n",
       "       '40 to 44 years-Female', '45 to 49 years-Female',\n",
       "       '50 to 54 years-Female', '55 to 59 years-Female',\n",
       "       '20 to 24 years-Male', '25 to 29 years-Male',\n",
       "       '30 to 34 years-Male', '40 to 44 years-Male',\n",
       "       '50 to 54 years-Male', '55 to 59 years-Male',\n",
       "       '60 to 64 years-Male', '65 years and over-Male'], dtype=object)"
      ]
     },
     "execution_count": 8,
     "metadata": {},
     "output_type": "execute_result"
    }
   ],
   "source": [
    "data_demo.Demographics.unique()"
   ]
  },
  {
   "cell_type": "code",
   "execution_count": 9,
   "metadata": {},
   "outputs": [
    {
     "data": {
      "text/plain": [
       "array(['English', 'French', 'English and non-official language',\n",
       "       'Non-official language',\n",
       "       'English, French and non-official language', 'English and French',\n",
       "       'French and non-official language'], dtype=object)"
      ]
     },
     "execution_count": 9,
     "metadata": {},
     "output_type": "execute_result"
    }
   ],
   "source": [
    "data_demo.Language.unique()"
   ]
  },
  {
   "cell_type": "code",
   "execution_count": 10,
   "metadata": {},
   "outputs": [
    {
     "data": {
      "text/plain": [
       "array(['Non-immigrants', 'Immigrants'], dtype=object)"
      ]
     },
     "execution_count": 10,
     "metadata": {},
     "output_type": "execute_result"
    }
   ],
   "source": [
    "data_demo.Immigration.unique()"
   ]
  },
  {
   "cell_type": "code",
   "execution_count": 11,
   "metadata": {},
   "outputs": [
    {
     "data": {
      "text/plain": [
       "array(['Car, truck, van - as a driver',\n",
       "       'Car, truck, van - as a passenger', 'Public transit',\n",
       "       'Other method', 'Walked', 'Bicycle'], dtype=object)"
      ]
     },
     "execution_count": 11,
     "metadata": {},
     "output_type": "execute_result"
    }
   ],
   "source": [
    "data_demo.Commute.unique()"
   ]
  },
  {
   "cell_type": "code",
   "execution_count": 12,
   "metadata": {},
   "outputs": [
    {
     "data": {
      "text/plain": [
       "array(['Married', 'Living common law', 'Never married', 'Separated',\n",
       "       'Divorced', 'Widowed'], dtype=object)"
      ]
     },
     "execution_count": 12,
     "metadata": {},
     "output_type": "execute_result"
    }
   ],
   "source": [
    "data_demo[\"Marital Status\"].unique()"
   ]
  },
  {
   "cell_type": "code",
   "execution_count": 13,
   "metadata": {},
   "outputs": [
    {
     "data": {
      "text/plain": [
       "array(['1 person', '2 persons', '4 persons', '5 or more persons',\n",
       "       '3 persons'], dtype=object)"
      ]
     },
     "execution_count": 13,
     "metadata": {},
     "output_type": "execute_result"
    }
   ],
   "source": [
    "data_demo[\"Family Size\"].unique()"
   ]
  },
  {
   "cell_type": "code",
   "execution_count": 14,
   "metadata": {},
   "outputs": [
    {
     "data": {
      "text/plain": [
       "array(['Single-detached house', 'Other', 'Apartment'], dtype=object)"
      ]
     },
     "execution_count": 14,
     "metadata": {},
     "output_type": "execute_result"
    }
   ],
   "source": [
    "data_demo.Dwelling.unique()"
   ]
  },
  {
   "cell_type": "code",
   "execution_count": 15,
   "metadata": {},
   "outputs": [
    {
     "data": {
      "text/plain": [
       "array(['Owned', 'Rented', 'Band housing'], dtype=object)"
      ]
     },
     "execution_count": 15,
     "metadata": {},
     "output_type": "execute_result"
    }
   ],
   "source": [
    "data_demo.Ownership.unique()"
   ]
  },
  {
   "cell_type": "code",
   "execution_count": 16,
   "metadata": {},
   "outputs": [
    {
     "data": {
      "text/plain": [
       "array(['Postsecondary', 'College', 'Secondary school', \"Master's degree\",\n",
       "       \"Bachelor's degree\", 'No certificate, diploma or degree',\n",
       "       'Doctorate', 'Degree in medicine & related'], dtype=object)"
      ]
     },
     "execution_count": 16,
     "metadata": {},
     "output_type": "execute_result"
    }
   ],
   "source": [
    "data_demo.Education.unique()"
   ]
  },
  {
   "cell_type": "code",
   "execution_count": 17,
   "metadata": {},
   "outputs": [
    {
     "data": {
      "text/plain": [
       "array(['62 Health care and social assistance',\n",
       "       '56 Administrative and support, waste management and remediation services',\n",
       "       '31-33 Manufacturing', '44-45 Retail trade',\n",
       "       '21 Mining, quarrying, and oil and gas extraction',\n",
       "       '61 Educational services',\n",
       "       '81 Other services (except public administration)',\n",
       "       '72 Accommodation and food services',\n",
       "       '53 Real estate and rental and leasing',\n",
       "       '54 Professional, scientific and technical services',\n",
       "       '11 Agriculture, forestry, fishing and hunting',\n",
       "       '51 Information and cultural industries', '41 Wholesale trade',\n",
       "       '22 Utilities', '52 Finance and insurance', '23 Construction',\n",
       "       '91 Public administration', '48-49 Transportation and warehousing',\n",
       "       '71 Arts, entertainment and recreation',\n",
       "       '55 Management of companies and enterprises'], dtype=object)"
      ]
     },
     "execution_count": 17,
     "metadata": {},
     "output_type": "execute_result"
    }
   ],
   "source": [
    "data_demo.Profession.unique()"
   ]
  },
  {
   "cell_type": "markdown",
   "metadata": {},
   "source": [
    "# There are four types of data:\n",
    "1. Ordinal data: Family Size, Education.\n",
    "2. Nominal data: Ethnicity,\tReligion, Language, Immigration, Commute, Marital Status, Dwelling,\tOwnership, Profession\t\n",
    "3. Numerical data: Income, Family Income\n",
    "4. Mixed type: Demographics -- it can be divided into ordinal data \"Age\" and categorical data \"Gender\".\n",
    "\n",
    "**first, divide the demographics feature into ordinal and categorical data**"
   ]
  },
  {
   "cell_type": "code",
   "execution_count": 3,
   "metadata": {},
   "outputs": [],
   "source": [
    "data_demo[[\"Age\", \"Gender\"]] = data_demo.Demographics.str.split(\"-\", expand=True)\n",
    "data_demo.drop(columns=[\"ID\", \"Demographics\"], inplace=True)"
   ]
  },
  {
   "cell_type": "markdown",
   "metadata": {},
   "source": [
    "**Convert \"Family Income\" type from object to int**"
   ]
  },
  {
   "cell_type": "code",
   "execution_count": 5,
   "metadata": {},
   "outputs": [],
   "source": [
    "data_demo[\"Family Income\"] = pd.to_numeric(data_demo[\"Family Income\"], errors=\"coerce\")"
   ]
  },
  {
   "cell_type": "markdown",
   "metadata": {},
   "source": [
    "# Currently, it almost reached the memory limit (32 G), so output the datafram into csv file (demographics_1.csv), and restart from there."
   ]
  },
  {
   "cell_type": "code",
   "execution_count": 7,
   "metadata": {},
   "outputs": [],
   "source": [
    "data_demo.to_csv(\"data/demographics_1.csv\", index=False)"
   ]
  },
  {
   "cell_type": "code",
   "execution_count": null,
   "metadata": {},
   "outputs": [],
   "source": []
  }
 ],
 "metadata": {
  "kernelspec": {
   "display_name": "Python 3",
   "language": "python",
   "name": "python3"
  },
  "language_info": {
   "codemirror_mode": {
    "name": "ipython",
    "version": 3
   },
   "file_extension": ".py",
   "mimetype": "text/x-python",
   "name": "python",
   "nbconvert_exporter": "python",
   "pygments_lexer": "ipython3",
   "version": "3.7.3"
  }
 },
 "nbformat": 4,
 "nbformat_minor": 2
}
