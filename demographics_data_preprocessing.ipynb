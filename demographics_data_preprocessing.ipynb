{
 "cells": [
  {
   "cell_type": "code",
   "execution_count": 3,
   "metadata": {
    "autoscroll": false,
    "collapsed": false,
    "ein.hycell": false,
    "ein.tags": "worksheet-0",
    "slideshow": {
     "slide_type": "-"
    }
   },
   "outputs": [],
   "source": [
    "import pandas as pd\n",
    "import numpy as np"
   ]
  },
  {
   "cell_type": "markdown",
   "metadata": {
    "ein.tags": "worksheet-0",
    "slideshow": {
     "slide_type": "-"
    }
   },
   "source": [
    "# Load data. \n",
    "Previously when loading data, Column (15) -- Family Income has mixed types. To remove this waring, spcifically define Family Income column as object type."
   ]
  },
  {
   "cell_type": "code",
   "execution_count": 4,
   "metadata": {
    "autoscroll": false,
    "collapsed": false,
    "ein.hycell": false,
    "ein.tags": "worksheet-0",
    "slideshow": {
     "slide_type": "-"
    }
   },
   "outputs": [],
   "source": [
    "data_demo = pd.read_csv(\"data/demographics.csv\", dtype={\"Family Income\": \"object\"})"
   ]
  },
  {
   "cell_type": "markdown",
   "metadata": {
    "ein.tags": "worksheet-0",
    "slideshow": {
     "slide_type": "-"
    }
   },
   "source": [
    "## Explore demographics data"
   ]
  },
  {
   "cell_type": "code",
   "execution_count": 5,
   "metadata": {
    "autoscroll": false,
    "collapsed": false,
    "ein.hycell": false,
    "ein.tags": "worksheet-0",
    "scrolled": false,
    "slideshow": {
     "slide_type": "-"
    }
   },
   "outputs": [
    {
     "data": {
      "text/html": [
       "<div>\n<style scoped>\n    .dataframe tbody tr th:only-of-type {\n        vertical-align: middle;\n    }\n\n    .dataframe tbody tr th {\n        vertical-align: top;\n    }\n\n    .dataframe thead th {\n        text-align: right;\n    }\n</style>\n<table border=\"1\" class=\"dataframe\">\n  <thead>\n    <tr style=\"text-align: right;\">\n      <th></th>\n      <th>ID</th>\n      <th>PostCode</th>\n      <th>Lat</th>\n      <th>Long</th>\n      <th>Province</th>\n      <th>Population Count</th>\n      <th>Age</th>\n      <th>Gender</th>\n      <th>Ethnicity</th>\n      <th>Religion</th>\n      <th>...</th>\n      <th>Immigration</th>\n      <th>Commute</th>\n      <th>Marital Status</th>\n      <th>Family Size</th>\n      <th>Dwelling</th>\n      <th>Ownership</th>\n      <th>Education</th>\n      <th>Profession</th>\n      <th>Income</th>\n      <th>Family Income</th>\n    </tr>\n  </thead>\n  <tbody>\n    <tr>\n      <td>0</td>\n      <td>V8A3P8-0</td>\n      <td>V8A3P8</td>\n      <td>49.8627</td>\n      <td>-124.5191</td>\n      <td>BC</td>\n      <td>1</td>\n      <td>40 to 44 years</td>\n      <td>Female</td>\n      <td>British</td>\n      <td>No religious affiliation</td>\n      <td>...</td>\n      <td>Native</td>\n      <td>Car (driver)</td>\n      <td>Married</td>\n      <td>4 persons</td>\n      <td>Single-detached house</td>\n      <td>Owned</td>\n      <td>Bachelor's degree or above</td>\n      <td>Accommodation and food services</td>\n      <td>$20,000 to $29,999</td>\n      <td>$25,000 to $29,999</td>\n    </tr>\n    <tr>\n      <td>1</td>\n      <td>V8A3P8-1</td>\n      <td>V8A3P8</td>\n      <td>49.8627</td>\n      <td>-124.5191</td>\n      <td>BC</td>\n      <td>1</td>\n      <td>55 to 59 years</td>\n      <td>Female</td>\n      <td>Northern European</td>\n      <td>Christian</td>\n      <td>...</td>\n      <td>Native</td>\n      <td>Car (driver)</td>\n      <td>Divorced</td>\n      <td>1 person</td>\n      <td>Single-detached house</td>\n      <td>Rented</td>\n      <td>Apprenticeship or trades certificate or diploma</td>\n      <td>Health care and social assistance</td>\n      <td>$10,000 to $19,999</td>\n      <td>$15,000 to $19,999</td>\n    </tr>\n    <tr>\n      <td>2</td>\n      <td>V8A3P8-2</td>\n      <td>V8A3P8</td>\n      <td>49.8627</td>\n      <td>-124.5191</td>\n      <td>BC</td>\n      <td>1</td>\n      <td>60 to 64 years</td>\n      <td>Female</td>\n      <td>British</td>\n      <td>No religious affiliation</td>\n      <td>...</td>\n      <td>Native</td>\n      <td>Car (driver)</td>\n      <td>Married</td>\n      <td>2 persons</td>\n      <td>Single-detached house</td>\n      <td>Owned</td>\n      <td>Secondary school</td>\n      <td>Retail trade</td>\n      <td>$60,000 to $69,999</td>\n      <td>$90,000 to $99,999</td>\n    </tr>\n    <tr>\n      <td>3</td>\n      <td>V8A3P8-3</td>\n      <td>V8A3P8</td>\n      <td>49.8627</td>\n      <td>-124.5191</td>\n      <td>BC</td>\n      <td>1</td>\n      <td>65 years and over</td>\n      <td>Female</td>\n      <td>French</td>\n      <td>Christian</td>\n      <td>...</td>\n      <td>Native</td>\n      <td>Car (driver)</td>\n      <td>Widowed</td>\n      <td>3 persons</td>\n      <td>Single-detached house</td>\n      <td>Owned</td>\n      <td>College</td>\n      <td>Health care and social assistance</td>\n      <td>$30,000 to $39,999</td>\n      <td>$30,000 to $34,999</td>\n    </tr>\n    <tr>\n      <td>4</td>\n      <td>V8A3P8-4</td>\n      <td>V8A3P8</td>\n      <td>49.8627</td>\n      <td>-124.5191</td>\n      <td>BC</td>\n      <td>1</td>\n      <td>65 years and over</td>\n      <td>Female</td>\n      <td>North American</td>\n      <td>Christian</td>\n      <td>...</td>\n      <td>Native</td>\n      <td>Car (passenger)</td>\n      <td>Widowed</td>\n      <td>3 persons</td>\n      <td>Single-detached house</td>\n      <td>Rented</td>\n      <td>No certificate, diploma or degree</td>\n      <td>Retail trade</td>\n      <td>Under $10,000 (including loss)</td>\n      <td>$45,000 to $49,999</td>\n    </tr>\n  </tbody>\n</table>\n<p>5 rows × 21 columns</p>\n</div>"
      ],
      "text/plain": [
       "         ID PostCode      Lat      Long Province  Population Count  \\\n0  V8A3P8-0   V8A3P8  49.8627 -124.5191       BC                 1   \n1  V8A3P8-1   V8A3P8  49.8627 -124.5191       BC                 1   \n2  V8A3P8-2   V8A3P8  49.8627 -124.5191       BC                 1   \n3  V8A3P8-3   V8A3P8  49.8627 -124.5191       BC                 1   \n4  V8A3P8-4   V8A3P8  49.8627 -124.5191       BC                 1   \n\n                 Age  Gender          Ethnicity                  Religion  \\\n0     40 to 44 years  Female            British  No religious affiliation   \n1     55 to 59 years  Female  Northern European                 Christian   \n2     60 to 64 years  Female            British  No religious affiliation   \n3  65 years and over  Female             French                 Christian   \n4  65 years and over  Female     North American                 Christian   \n\n   ... Immigration          Commute Marital Status Family Size  \\\n0  ...      Native     Car (driver)        Married   4 persons   \n1  ...      Native     Car (driver)       Divorced    1 person   \n2  ...      Native     Car (driver)        Married   2 persons   \n3  ...      Native     Car (driver)        Widowed   3 persons   \n4  ...      Native  Car (passenger)        Widowed   3 persons   \n\n                Dwelling Ownership  \\\n0  Single-detached house     Owned   \n1  Single-detached house    Rented   \n2  Single-detached house     Owned   \n3  Single-detached house     Owned   \n4  Single-detached house    Rented   \n\n                                         Education  \\\n0                       Bachelor's degree or above   \n1  Apprenticeship or trades certificate or diploma   \n2                                 Secondary school   \n3                                          College   \n4                No certificate, diploma or degree   \n\n                          Profession                          Income  \\\n0    Accommodation and food services              $20,000 to $29,999   \n1  Health care and social assistance              $10,000 to $19,999   \n2                       Retail trade              $60,000 to $69,999   \n3  Health care and social assistance              $30,000 to $39,999   \n4                       Retail trade  Under $10,000 (including loss)   \n\n        Family Income  \n0  $25,000 to $29,999  \n1  $15,000 to $19,999  \n2  $90,000 to $99,999  \n3  $30,000 to $34,999  \n4  $45,000 to $49,999  \n\n[5 rows x 21 columns]"
      ]
     },
     "execution_count": 5,
     "metadata": {},
     "output_type": "execute_result"
    }
   ],
   "source": [
    "data_demo.head()"
   ]
  },
  {
   "cell_type": "code",
   "execution_count": 6,
   "metadata": {
    "autoscroll": false,
    "collapsed": false,
    "ein.hycell": false,
    "ein.tags": "worksheet-0",
    "slideshow": {
     "slide_type": "-"
    }
   },
   "outputs": [
    {
     "name": "stdout",
     "output_type": "stream",
     "text": [
      "<class 'pandas.core.frame.DataFrame'>\n",
      "RangeIndex: 29115178 entries, 0 to 29115177\n",
      "Data columns (total 21 columns):\n",
      "ID                  object\n",
      "PostCode            object\n",
      "Lat                 float64\n",
      "Long                float64\n",
      "Province            object\n",
      "Population Count    int64\n",
      "Age                 object\n",
      "Gender              object\n",
      "Ethnicity           object\n",
      "Religion            object\n",
      "Language            object\n",
      "Immigration         object\n",
      "Commute             object\n",
      "Marital Status      object\n",
      "Family Size         object\n",
      "Dwelling            object\n",
      "Ownership           object\n",
      "Education           object\n",
      "Profession          object\n",
      "Income              object\n",
      "Family Income       object\n",
      "dtypes: float64(2), int64(1), object(18)\n",
      "memory usage: 4.6+ GB\n"
     ]
    }
   ],
   "source": [
    "data_demo.info()"
   ]
  },
  {
   "cell_type": "code",
   "execution_count": 7,
   "metadata": {
    "autoscroll": false,
    "collapsed": false,
    "ein.hycell": false,
    "ein.tags": "worksheet-0",
    "slideshow": {
     "slide_type": "-"
    }
   },
   "outputs": [
    {
     "data": {
      "text/plain": [
       "False"
      ]
     },
     "execution_count": 7,
     "metadata": {},
     "output_type": "execute_result"
    }
   ],
   "source": [
    "# Check if there are any missing values.\n",
    "data_demo.isnull().values.any()"
   ]
  },
  {
   "cell_type": "code",
   "execution_count": 8,
   "metadata": {
    "autoscroll": false,
    "collapsed": false,
    "ein.hycell": false,
    "ein.tags": "worksheet-0",
    "slideshow": {
     "slide_type": "-"
    }
   },
   "outputs": [
    {
     "data": {
      "text/plain": [
       "array(['No religious affiliation', 'Christian', 'Muslim', 'Hindu',\n       'Buddhist', 'Sikh', 'Traditional (Aboriginal) Spirituality',\n       'Other religions', 'Jewish'], dtype=object)"
      ]
     },
     "execution_count": 8,
     "metadata": {},
     "output_type": "execute_result"
    }
   ],
   "source": [
    "data_demo.Religion.unique()"
   ]
  },
  {
   "cell_type": "code",
   "execution_count": 9,
   "metadata": {
    "autoscroll": false,
    "collapsed": false,
    "ein.hycell": false,
    "ein.tags": "worksheet-0",
    "slideshow": {
     "slide_type": "-"
    }
   },
   "outputs": [
    {
     "data": {
      "text/plain": [
       "array(['British', 'Northern European', 'French', 'North American',\n       'Western European', 'Southern European', 'Eastern European',\n       'Latin, Central and South American', 'Caribbean', 'African',\n       'East and Southeast Asian origins', 'Middle Eastern', 'Aboriginal',\n       'South Asian'], dtype=object)"
      ]
     },
     "execution_count": 9,
     "metadata": {},
     "output_type": "execute_result"
    }
   ],
   "source": [
    "data_demo.Ethnicity.unique()"
   ]
  },
  {
   "cell_type": "code",
   "execution_count": 10,
   "metadata": {
    "autoscroll": false,
    "collapsed": false,
    "ein.hycell": false,
    "ein.tags": "worksheet-0",
    "slideshow": {
     "slide_type": "-"
    }
   },
   "outputs": [
    {
     "data": {
      "text/plain": [
       "array(['BC', 'QC', 'ON', 'NS', 'AB', 'SK', 'MB', 'NB', 'NL', 'PE', 'NT',\n       'YT'], dtype=object)"
      ]
     },
     "execution_count": 10,
     "metadata": {},
     "output_type": "execute_result"
    }
   ],
   "source": [
    "data_demo.Province.unique()"
   ]
  },
  {
   "cell_type": "code",
   "execution_count": 11,
   "metadata": {
    "autoscroll": false,
    "collapsed": false,
    "ein.hycell": false,
    "ein.tags": "worksheet-0",
    "slideshow": {
     "slide_type": "-"
    }
   },
   "outputs": [
    {
     "data": {
      "text/plain": [
       "array(['English', 'Non-official languages', 'French'], dtype=object)"
      ]
     },
     "execution_count": 11,
     "metadata": {},
     "output_type": "execute_result"
    }
   ],
   "source": [
    "data_demo.Language.unique()"
   ]
  },
  {
   "cell_type": "code",
   "execution_count": 12,
   "metadata": {
    "autoscroll": false,
    "collapsed": false,
    "ein.hycell": false,
    "ein.tags": "worksheet-0",
    "slideshow": {
     "slide_type": "-"
    }
   },
   "outputs": [
    {
     "data": {
      "text/plain": [
       "array(['Native', 'Immigrants'], dtype=object)"
      ]
     },
     "execution_count": 12,
     "metadata": {},
     "output_type": "execute_result"
    }
   ],
   "source": [
    "data_demo.Immigration.unique()"
   ]
  },
  {
   "cell_type": "code",
   "execution_count": 13,
   "metadata": {
    "autoscroll": false,
    "collapsed": false,
    "ein.hycell": false,
    "ein.tags": "worksheet-0",
    "slideshow": {
     "slide_type": "-"
    }
   },
   "outputs": [
    {
     "data": {
      "text/plain": [
       "array(['Car (driver)', 'Car (passenger)', 'Public transit', 'Bicycle',\n       'Walked', 'Other method'], dtype=object)"
      ]
     },
     "execution_count": 13,
     "metadata": {},
     "output_type": "execute_result"
    }
   ],
   "source": [
    "data_demo.Commute.unique()"
   ]
  },
  {
   "cell_type": "code",
   "execution_count": 14,
   "metadata": {
    "autoscroll": false,
    "collapsed": false,
    "ein.hycell": false,
    "ein.tags": "worksheet-0",
    "slideshow": {
     "slide_type": "-"
    }
   },
   "outputs": [
    {
     "data": {
      "text/plain": [
       "array(['Married', 'Divorced', 'Widowed', 'Living common law',\n       'Never married', 'Separated'], dtype=object)"
      ]
     },
     "execution_count": 14,
     "metadata": {},
     "output_type": "execute_result"
    }
   ],
   "source": [
    "data_demo[\"Marital Status\"].unique()"
   ]
  },
  {
   "cell_type": "code",
   "execution_count": 15,
   "metadata": {
    "autoscroll": false,
    "collapsed": false,
    "ein.hycell": false,
    "ein.tags": "worksheet-0",
    "slideshow": {
     "slide_type": "-"
    }
   },
   "outputs": [
    {
     "data": {
      "text/plain": [
       "array(['4 persons', '1 person', '2 persons', '3 persons',\n       '5 or more persons'], dtype=object)"
      ]
     },
     "execution_count": 15,
     "metadata": {},
     "output_type": "execute_result"
    }
   ],
   "source": [
    "data_demo[\"Family Size\"].unique()"
   ]
  },
  {
   "cell_type": "code",
   "execution_count": 16,
   "metadata": {
    "autoscroll": false,
    "collapsed": false,
    "ein.hycell": false,
    "ein.tags": "worksheet-0",
    "slideshow": {
     "slide_type": "-"
    }
   },
   "outputs": [
    {
     "data": {
      "text/plain": [
       "array(['Single-detached house', 'Other', 'Apartment'], dtype=object)"
      ]
     },
     "execution_count": 16,
     "metadata": {},
     "output_type": "execute_result"
    }
   ],
   "source": [
    "data_demo.Dwelling.unique()"
   ]
  },
  {
   "cell_type": "code",
   "execution_count": 17,
   "metadata": {
    "autoscroll": false,
    "collapsed": false,
    "ein.hycell": false,
    "ein.tags": "worksheet-0",
    "slideshow": {
     "slide_type": "-"
    }
   },
   "outputs": [
    {
     "data": {
      "text/plain": [
       "array(['Owned', 'Rented'], dtype=object)"
      ]
     },
     "execution_count": 17,
     "metadata": {},
     "output_type": "execute_result"
    }
   ],
   "source": [
    "data_demo.Ownership.unique()"
   ]
  },
  {
   "cell_type": "code",
   "execution_count": 18,
   "metadata": {
    "autoscroll": false,
    "collapsed": false,
    "ein.hycell": false,
    "ein.tags": "worksheet-0",
    "slideshow": {
     "slide_type": "-"
    }
   },
   "outputs": [
    {
     "data": {
      "text/plain": [
       "array([\"Bachelor's degree or above\",\n       'Apprenticeship or trades certificate or diploma',\n       'Secondary school', 'College', 'No certificate, diploma or degree'],\n      dtype=object)"
      ]
     },
     "execution_count": 18,
     "metadata": {},
     "output_type": "execute_result"
    }
   ],
   "source": [
    "data_demo.Education.unique()"
   ]
  },
  {
   "cell_type": "code",
   "execution_count": 19,
   "metadata": {
    "autoscroll": false,
    "collapsed": false,
    "ein.hycell": false,
    "ein.tags": "worksheet-0",
    "slideshow": {
     "slide_type": "-"
    }
   },
   "outputs": [
    {
     "data": {
      "text/plain": [
       "array(['Accommodation and food services',\n       'Health care and social assistance', 'Retail trade',\n       'Manufacturing',\n       'Administrative and support, waste management and remediation services',\n       'Construction', 'Other services (except public administration)',\n       'Finance and insurance', 'Public administration',\n       'Educational services', 'Wholesale trade',\n       'Transportation and warehousing',\n       'Professional, scientific and technical services',\n       'Real estate and rental and leasing',\n       'Agriculture, forestry, fishing and hunting',\n       'Arts, entertainment and recreation',\n       'Mining, quarrying, and oil and gas extraction',\n       'Information and cultural industries', 'Utilities',\n       'Management of companies and enterprises'], dtype=object)"
      ]
     },
     "execution_count": 19,
     "metadata": {},
     "output_type": "execute_result"
    }
   ],
   "source": [
    "data_demo.Profession.unique()"
   ]
  },
  {
   "cell_type": "code",
   "execution_count": 20,
   "metadata": {
    "autoscroll": false,
    "collapsed": false,
    "ein.hycell": false,
    "ein.tags": "worksheet-0",
    "slideshow": {
     "slide_type": "-"
    }
   },
   "outputs": [
    {
     "data": {
      "text/plain": [
       "array(['40 to 44 years', '55 to 59 years', '60 to 64 years',\n       '65 years and over', '25 to 29 years', '20 to 24 years',\n       '30 to 34 years', '45 to 49 years', '50 to 54 years',\n       '35 to 39 years'], dtype=object)"
      ]
     },
     "execution_count": 20,
     "metadata": {},
     "output_type": "execute_result"
    }
   ],
   "source": [
    "data_demo.Age.unique()"
   ]
  },
  {
   "cell_type": "code",
   "execution_count": 21,
   "metadata": {
    "autoscroll": false,
    "collapsed": false,
    "ein.hycell": false,
    "ein.tags": "worksheet-0",
    "slideshow": {
     "slide_type": "-"
    }
   },
   "outputs": [
    {
     "data": {
      "text/plain": [
       "array(['Female', 'Male'], dtype=object)"
      ]
     },
     "execution_count": 21,
     "metadata": {},
     "output_type": "execute_result"
    }
   ],
   "source": [
    "data_demo.Gender.unique()"
   ]
  },
  {
   "cell_type": "markdown",
   "metadata": {
    "ein.tags": "worksheet-0",
    "slideshow": {
     "slide_type": "-"
    }
   },
   "source": [
    "# There are four types of data:\n",
    "1. Ordinal data: Family Size, Education.\n",
    "2. Nominal data: Ethnicity,\tReligion, Language, Immigration, Commute, Marital Status, Dwelling,\tOwnership, Profession, Province\n",
    "3. Numerical data: Income, Family Income\n"
   ]
  },
  {
   "cell_type": "code",
   "execution_count": 22,
   "metadata": {
    "autoscroll": false,
    "collapsed": false,
    "ein.hycell": false,
    "ein.tags": "worksheet-0",
    "slideshow": {
     "slide_type": "-"
    }
   },
   "outputs": [
    {
     "data": {
      "text/plain": [
       "Index(['ID', 'PostCode', 'Lat', 'Long', 'Province', 'Population Count', 'Age',\n       'Gender', 'Ethnicity', 'Religion', 'Language', 'Immigration', 'Commute',\n       'Marital Status', 'Family Size', 'Dwelling', 'Ownership', 'Education',\n       'Profession', 'Income', 'Family Income'],\n      dtype='object')"
      ]
     },
     "execution_count": 22,
     "metadata": {},
     "output_type": "execute_result"
    }
   ],
   "source": [
    "data_demo.columns"
   ]
  },
  {
   "cell_type": "code",
   "execution_count": 23,
   "metadata": {
    "autoscroll": false,
    "collapsed": false,
    "ein.hycell": false,
    "ein.tags": "worksheet-0",
    "slideshow": {
     "slide_type": "-"
    }
   },
   "outputs": [],
   "source": [
    "# The following code is used for sampling and testing before on run the actual sample\n",
    "# data_demo = data_demo.sample(frac=0.005, replace=False, random_state=1)"
   ]
  },
  {
   "cell_type": "markdown",
   "metadata": {
    "ein.tags": "worksheet-0",
    "slideshow": {
     "slide_type": "-"
    }
   },
   "source": [
    "# Select features that are potentially correlated with the feature (number of trades) from the aggregated data, and are easily aggregated as well (nominal features that only have two categories).\n",
    "The candadites are:\n",
    "1. Immigration -- nominal\n",
    "2. Gender -- nominal\n",
    "3. Ownership -- nominal\n",
    "4. Dwelling -- nominal\n",
    "5. Education -- nominal\n",
    "6. ethnicity -- nominal\n",
    "7. Commute -- nominal\n",
    "8. Marital Status\n",
    "\n",
    "\n",
    "9. Age -- ordinal\n",
    "\n",
    "\n",
    "10. Income -- numeric\n",
    "11. Family Size -- numeric\n",
    "12. Family Income -- numeric\n",
    "\n",
    "**Remove the following columns.**"
   ]
  },
  {
   "cell_type": "code",
   "execution_count": 24,
   "metadata": {
    "autoscroll": false,
    "collapsed": false,
    "ein.hycell": false,
    "ein.tags": "worksheet-0",
    "slideshow": {
     "slide_type": "-"
    }
   },
   "outputs": [],
   "source": [
    "removed_cols = [\"Religion\", \"Language\", \"Profession\", 'ID', 'Lat', 'Long']\n",
    "data_demo.drop(removed_cols, inplace=True, axis=1)"
   ]
  },
  {
   "cell_type": "code",
   "execution_count": 25,
   "metadata": {
    "autoscroll": false,
    "collapsed": false,
    "ein.hycell": false,
    "ein.tags": "worksheet-0",
    "slideshow": {
     "slide_type": "-"
    }
   },
   "outputs": [],
   "source": [
    "index = [\"PostCode\"]\n",
    "\n",
    "nominal_col = [\n",
    "    \"Immigration\", \"Gender\", \"Ownership\", \"Dwelling\", \n",
    "    \"Education\", \"Ethnicity\", \"Commute\", \"Marital Status\", 'Province'\n",
    "]\n",
    "\n",
    "ordinal_col = [\"Age\", 'Income', 'Family Income']\n",
    "\n",
    "numeric_col = [\"Family Size\", 'Population Count']"
   ]
  },
  {
   "cell_type": "markdown",
   "metadata": {
    "ein.tags": "worksheet-0",
    "slideshow": {
     "slide_type": "-"
    }
   },
   "source": [
    "## Aggregate norminal data"
   ]
  },
  {
   "cell_type": "code",
   "execution_count": 26,
   "metadata": {
    "autoscroll": false,
    "collapsed": false,
    "ein.hycell": false,
    "ein.tags": "worksheet-0",
    "slideshow": {
     "slide_type": "-"
    }
   },
   "outputs": [],
   "source": [
    "df_nominal = data_demo[nominal_col + index]\n",
    "df_nominal = pd.get_dummies(df_nominal, columns=nominal_col)"
   ]
  },
  {
   "cell_type": "code",
   "execution_count": 27,
   "metadata": {
    "autoscroll": false,
    "collapsed": false,
    "ein.hycell": false,
    "ein.tags": "worksheet-0",
    "slideshow": {
     "slide_type": "-"
    }
   },
   "outputs": [
    {
     "name": "stdout",
     "output_type": "stream",
     "text": [
      "<class 'pandas.core.frame.DataFrame'>\n",
      "RangeIndex: 29115178 entries, 0 to 29115177\n",
      "Data columns (total 53 columns):\n",
      "PostCode                                                     object\n",
      "Immigration_Immigrants                                       uint8\n",
      "Immigration_Native                                           uint8\n",
      "Gender_Female                                                uint8\n",
      "Gender_Male                                                  uint8\n",
      "Ownership_Owned                                              uint8\n",
      "Ownership_Rented                                             uint8\n",
      "Dwelling_Apartment                                           uint8\n",
      "Dwelling_Other                                               uint8\n",
      "Dwelling_Single-detached house                               uint8\n",
      "Education_Apprenticeship or trades certificate or diploma    uint8\n",
      "Education_Bachelor's degree or above                         uint8\n",
      "Education_College                                            uint8\n",
      "Education_No certificate, diploma or degree                  uint8\n",
      "Education_Secondary school                                   uint8\n",
      "Ethnicity_Aboriginal                                         uint8\n",
      "Ethnicity_African                                            uint8\n",
      "Ethnicity_British                                            uint8\n",
      "Ethnicity_Caribbean                                          uint8\n",
      "Ethnicity_East and Southeast Asian origins                   uint8\n",
      "Ethnicity_Eastern European                                   uint8\n",
      "Ethnicity_French                                             uint8\n",
      "Ethnicity_Latin, Central and South American                  uint8\n",
      "Ethnicity_Middle Eastern                                     uint8\n",
      "Ethnicity_North American                                     uint8\n",
      "Ethnicity_Northern European                                  uint8\n",
      "Ethnicity_South Asian                                        uint8\n",
      "Ethnicity_Southern European                                  uint8\n",
      "Ethnicity_Western European                                   uint8\n",
      "Commute_Bicycle                                              uint8\n",
      "Commute_Car (driver)                                         uint8\n",
      "Commute_Car (passenger)                                      uint8\n",
      "Commute_Other method                                         uint8\n",
      "Commute_Public transit                                       uint8\n",
      "Commute_Walked                                               uint8\n",
      "Marital Status_Divorced                                      uint8\n",
      "Marital Status_Living common law                             uint8\n",
      "Marital Status_Married                                       uint8\n",
      "Marital Status_Never married                                 uint8\n",
      "Marital Status_Separated                                     uint8\n",
      "Marital Status_Widowed                                       uint8\n",
      "Province_AB                                                  uint8\n",
      "Province_BC                                                  uint8\n",
      "Province_MB                                                  uint8\n",
      "Province_NB                                                  uint8\n",
      "Province_NL                                                  uint8\n",
      "Province_NS                                                  uint8\n",
      "Province_NT                                                  uint8\n",
      "Province_ON                                                  uint8\n",
      "Province_PE                                                  uint8\n",
      "Province_QC                                                  uint8\n",
      "Province_SK                                                  uint8\n",
      "Province_YT                                                  uint8\n",
      "dtypes: object(1), uint8(52)\n",
      "memory usage: 1.6+ GB\n"
     ]
    }
   ],
   "source": [
    "df_nominal.info()"
   ]
  },
  {
   "cell_type": "code",
   "execution_count": 28,
   "metadata": {
    "autoscroll": false,
    "collapsed": false,
    "ein.hycell": false,
    "ein.tags": "worksheet-0",
    "slideshow": {
     "slide_type": "-"
    }
   },
   "outputs": [],
   "source": [
    "df_nominal_agg = df_nominal.groupby(\"PostCode\").apply(lambda x: x.sum() / x.count())"
   ]
  },
  {
   "cell_type": "code",
   "execution_count": 29,
   "metadata": {
    "autoscroll": false,
    "collapsed": false,
    "ein.hycell": false,
    "ein.tags": "worksheet-0",
    "slideshow": {
     "slide_type": "-"
    }
   },
   "outputs": [
    {
     "name": "stdout",
     "output_type": "stream",
     "text": [
      "<class 'pandas.core.frame.DataFrame'>\n",
      "Index: 793779 entries, A0A0B7 to Y1A7A4\n",
      "Data columns (total 52 columns):\n",
      "Immigration_Immigrants                                       793779 non-null float64\n",
      "Immigration_Native                                           793779 non-null float64\n",
      "Gender_Female                                                793779 non-null float64\n",
      "Gender_Male                                                  793779 non-null float64\n",
      "Ownership_Owned                                              793779 non-null float64\n",
      "Ownership_Rented                                             793779 non-null float64\n",
      "Dwelling_Apartment                                           793779 non-null float64\n",
      "Dwelling_Other                                               793779 non-null float64\n",
      "Dwelling_Single-detached house                               793779 non-null float64\n",
      "Education_Apprenticeship or trades certificate or diploma    793779 non-null float64\n",
      "Education_Bachelor's degree or above                         793779 non-null float64\n",
      "Education_College                                            793779 non-null float64\n",
      "Education_No certificate, diploma or degree                  793779 non-null float64\n",
      "Education_Secondary school                                   793779 non-null float64\n",
      "Ethnicity_Aboriginal                                         793779 non-null float64\n",
      "Ethnicity_African                                            793779 non-null float64\n",
      "Ethnicity_British                                            793779 non-null float64\n",
      "Ethnicity_Caribbean                                          793779 non-null float64\n",
      "Ethnicity_East and Southeast Asian origins                   793779 non-null float64\n",
      "Ethnicity_Eastern European                                   793779 non-null float64\n",
      "Ethnicity_French                                             793779 non-null float64\n",
      "Ethnicity_Latin, Central and South American                  793779 non-null float64\n",
      "Ethnicity_Middle Eastern                                     793779 non-null float64\n",
      "Ethnicity_North American                                     793779 non-null float64\n",
      "Ethnicity_Northern European                                  793779 non-null float64\n",
      "Ethnicity_South Asian                                        793779 non-null float64\n",
      "Ethnicity_Southern European                                  793779 non-null float64\n",
      "Ethnicity_Western European                                   793779 non-null float64\n",
      "Commute_Bicycle                                              793779 non-null float64\n",
      "Commute_Car (driver)                                         793779 non-null float64\n",
      "Commute_Car (passenger)                                      793779 non-null float64\n",
      "Commute_Other method                                         793779 non-null float64\n",
      "Commute_Public transit                                       793779 non-null float64\n",
      "Commute_Walked                                               793779 non-null float64\n",
      "Marital Status_Divorced                                      793779 non-null float64\n",
      "Marital Status_Living common law                             793779 non-null float64\n",
      "Marital Status_Married                                       793779 non-null float64\n",
      "Marital Status_Never married                                 793779 non-null float64\n",
      "Marital Status_Separated                                     793779 non-null float64\n",
      "Marital Status_Widowed                                       793779 non-null float64\n",
      "Province_AB                                                  793779 non-null float64\n",
      "Province_BC                                                  793779 non-null float64\n",
      "Province_MB                                                  793779 non-null float64\n",
      "Province_NB                                                  793779 non-null float64\n",
      "Province_NL                                                  793779 non-null float64\n",
      "Province_NS                                                  793779 non-null float64\n",
      "Province_NT                                                  793779 non-null float64\n",
      "Province_ON                                                  793779 non-null float64\n",
      "Province_PE                                                  793779 non-null float64\n",
      "Province_QC                                                  793779 non-null float64\n",
      "Province_SK                                                  793779 non-null float64\n",
      "Province_YT                                                  793779 non-null float64\n",
      "dtypes: float64(52)\n",
      "memory usage: 321.0+ MB\n"
     ]
    }
   ],
   "source": [
    "df_nominal_agg.info()"
   ]
  },
  {
   "cell_type": "markdown",
   "metadata": {
    "ein.tags": "worksheet-0",
    "slideshow": {
     "slide_type": "-"
    }
   },
   "source": [
    "## Preprocess and aggregate numeric data"
   ]
  },
  {
   "cell_type": "code",
   "execution_count": 30,
   "metadata": {
    "autoscroll": false,
    "collapsed": false,
    "ein.hycell": false,
    "ein.tags": "worksheet-0",
    "slideshow": {
     "slide_type": "-"
    }
   },
   "outputs": [],
   "source": [
    "df_numeric = data_demo[numeric_col + index]"
   ]
  },
  {
   "cell_type": "code",
   "execution_count": 31,
   "metadata": {
    "autoscroll": false,
    "collapsed": false,
    "ein.hycell": false,
    "ein.tags": "worksheet-0",
    "slideshow": {
     "slide_type": "-"
    }
   },
   "outputs": [
    {
     "data": {
      "text/html": [
       "<div>\n<style scoped>\n    .dataframe tbody tr th:only-of-type {\n        vertical-align: middle;\n    }\n\n    .dataframe tbody tr th {\n        vertical-align: top;\n    }\n\n    .dataframe thead th {\n        text-align: right;\n    }\n</style>\n<table border=\"1\" class=\"dataframe\">\n  <thead>\n    <tr style=\"text-align: right;\">\n      <th></th>\n      <th>Family Size</th>\n      <th>Population Count</th>\n      <th>PostCode</th>\n    </tr>\n  </thead>\n  <tbody>\n    <tr>\n      <td>0</td>\n      <td>4 persons</td>\n      <td>1</td>\n      <td>V8A3P8</td>\n    </tr>\n    <tr>\n      <td>1</td>\n      <td>1 person</td>\n      <td>1</td>\n      <td>V8A3P8</td>\n    </tr>\n    <tr>\n      <td>2</td>\n      <td>2 persons</td>\n      <td>1</td>\n      <td>V8A3P8</td>\n    </tr>\n    <tr>\n      <td>3</td>\n      <td>3 persons</td>\n      <td>1</td>\n      <td>V8A3P8</td>\n    </tr>\n    <tr>\n      <td>4</td>\n      <td>3 persons</td>\n      <td>1</td>\n      <td>V8A3P8</td>\n    </tr>\n  </tbody>\n</table>\n</div>"
      ],
      "text/plain": [
       "  Family Size  Population Count PostCode\n0   4 persons                 1   V8A3P8\n1    1 person                 1   V8A3P8\n2   2 persons                 1   V8A3P8\n3   3 persons                 1   V8A3P8\n4   3 persons                 1   V8A3P8"
      ]
     },
     "execution_count": 31,
     "metadata": {},
     "output_type": "execute_result"
    }
   ],
   "source": [
    "df_numeric.head()"
   ]
  },
  {
   "cell_type": "code",
   "execution_count": 32,
   "metadata": {
    "autoscroll": false,
    "collapsed": false,
    "ein.hycell": false,
    "ein.tags": "worksheet-0",
    "slideshow": {
     "slide_type": "-"
    }
   },
   "outputs": [
    {
     "name": "stderr",
     "output_type": "stream",
     "text": [
      "/home/yang/.virtualenvs/sharpestmind/lib/python3.6/site-packages/ipykernel_launcher.py:1: SettingWithCopyWarning: \n",
      "A value is trying to be set on a copy of a slice from a DataFrame.\n",
      "Try using .loc[row_indexer,col_indexer] = value instead\n",
      "\n",
      "See the caveats in the documentation: http://pandas.pydata.org/pandas-docs/stable/user_guide/indexing.html#returning-a-view-versus-a-copy\n",
      "  \"\"\"Entry point for launching an IPython kernel.\n"
     ]
    },
    {
     "name": "stderr",
     "output_type": "stream",
     "text": [
      "/home/yang/.virtualenvs/sharpestmind/lib/python3.6/site-packages/ipykernel_launcher.py:2: SettingWithCopyWarning: \n",
      "A value is trying to be set on a copy of a slice from a DataFrame.\n",
      "Try using .loc[row_indexer,col_indexer] = value instead\n",
      "\n",
      "See the caveats in the documentation: http://pandas.pydata.org/pandas-docs/stable/user_guide/indexing.html#returning-a-view-versus-a-copy\n",
      "  \n"
     ]
    }
   ],
   "source": [
    "df_numeric[\"Family Size\"] = df_numeric[\"Family Size\"].str.split(\" \", expand=True)[0]\n",
    "df_numeric[\"Family Size\"] = pd.to_numeric(df_numeric[\"Family Size\"], errors=\"coerce\")"
   ]
  },
  {
   "cell_type": "code",
   "execution_count": 33,
   "metadata": {
    "autoscroll": false,
    "collapsed": false,
    "ein.hycell": false,
    "ein.tags": "worksheet-0",
    "slideshow": {
     "slide_type": "-"
    }
   },
   "outputs": [],
   "source": [
    "df_numeric_agg = df_numeric.groupby(\"PostCode\").agg(\n",
    "    {\"Family Size\": np.median, \n",
    "     \"Population Count\": sum,\n",
    "    }\n",
    ")"
   ]
  },
  {
   "cell_type": "code",
   "execution_count": 34,
   "metadata": {
    "autoscroll": false,
    "collapsed": false,
    "ein.hycell": false,
    "ein.tags": "worksheet-0",
    "slideshow": {
     "slide_type": "-"
    }
   },
   "outputs": [
    {
     "data": {
      "text/html": [
       "<div>\n<style scoped>\n    .dataframe tbody tr th:only-of-type {\n        vertical-align: middle;\n    }\n\n    .dataframe tbody tr th {\n        vertical-align: top;\n    }\n\n    .dataframe thead th {\n        text-align: right;\n    }\n</style>\n<table border=\"1\" class=\"dataframe\">\n  <thead>\n    <tr style=\"text-align: right;\">\n      <th></th>\n      <th>Family Size</th>\n      <th>Population Count</th>\n    </tr>\n    <tr>\n      <th>PostCode</th>\n      <th></th>\n      <th></th>\n    </tr>\n  </thead>\n  <tbody>\n    <tr>\n      <td>A0A0B7</td>\n      <td>1.5</td>\n      <td>2</td>\n    </tr>\n    <tr>\n      <td>A0A0C2</td>\n      <td>1.5</td>\n      <td>2</td>\n    </tr>\n    <tr>\n      <td>A0A1A0</td>\n      <td>2.0</td>\n      <td>61</td>\n    </tr>\n    <tr>\n      <td>A0A1B0</td>\n      <td>2.0</td>\n      <td>480</td>\n    </tr>\n    <tr>\n      <td>A0A1C0</td>\n      <td>2.0</td>\n      <td>1091</td>\n    </tr>\n  </tbody>\n</table>\n</div>"
      ],
      "text/plain": [
       "          Family Size  Population Count\nPostCode                               \nA0A0B7            1.5                 2\nA0A0C2            1.5                 2\nA0A1A0            2.0                61\nA0A1B0            2.0               480\nA0A1C0            2.0              1091"
      ]
     },
     "execution_count": 34,
     "metadata": {},
     "output_type": "execute_result"
    }
   ],
   "source": [
    "df_numeric_agg.head()"
   ]
  },
  {
   "cell_type": "code",
   "execution_count": 35,
   "metadata": {
    "autoscroll": false,
    "collapsed": false,
    "ein.hycell": false,
    "ein.tags": "worksheet-0",
    "slideshow": {
     "slide_type": "-"
    }
   },
   "outputs": [
    {
     "name": "stdout",
     "output_type": "stream",
     "text": [
      "<class 'pandas.core.frame.DataFrame'>\n",
      "Index: 793779 entries, A0A0B7 to Y1A7A4\n",
      "Data columns (total 2 columns):\n",
      "Family Size         793779 non-null float64\n",
      "Population Count    793779 non-null int64\n",
      "dtypes: float64(1), int64(1)\n",
      "memory usage: 18.2+ MB\n"
     ]
    }
   ],
   "source": [
    "df_numeric_agg.info()"
   ]
  },
  {
   "cell_type": "markdown",
   "metadata": {
    "ein.tags": "worksheet-0",
    "slideshow": {
     "slide_type": "-"
    }
   },
   "source": [
    "## Preprocess and aggregate ordinal columns"
   ]
  },
  {
   "cell_type": "code",
   "execution_count": 36,
   "metadata": {
    "autoscroll": false,
    "collapsed": false,
    "ein.hycell": false,
    "ein.tags": "worksheet-0",
    "slideshow": {
     "slide_type": "-"
    }
   },
   "outputs": [],
   "source": [
    "df_ordinal = data_demo[ordinal_col + index]"
   ]
  },
  {
   "cell_type": "code",
   "execution_count": 37,
   "metadata": {
    "autoscroll": false,
    "collapsed": false,
    "ein.hycell": false,
    "ein.tags": "worksheet-0",
    "slideshow": {
     "slide_type": "-"
    }
   },
   "outputs": [
    {
     "data": {
      "text/html": [
       "<div>\n<style scoped>\n    .dataframe tbody tr th:only-of-type {\n        vertical-align: middle;\n    }\n\n    .dataframe tbody tr th {\n        vertical-align: top;\n    }\n\n    .dataframe thead th {\n        text-align: right;\n    }\n</style>\n<table border=\"1\" class=\"dataframe\">\n  <thead>\n    <tr style=\"text-align: right;\">\n      <th></th>\n      <th>Age</th>\n      <th>Income</th>\n      <th>Family Income</th>\n      <th>PostCode</th>\n    </tr>\n  </thead>\n  <tbody>\n    <tr>\n      <td>0</td>\n      <td>40 to 44 years</td>\n      <td>$20,000 to $29,999</td>\n      <td>$25,000 to $29,999</td>\n      <td>V8A3P8</td>\n    </tr>\n    <tr>\n      <td>1</td>\n      <td>55 to 59 years</td>\n      <td>$10,000 to $19,999</td>\n      <td>$15,000 to $19,999</td>\n      <td>V8A3P8</td>\n    </tr>\n    <tr>\n      <td>2</td>\n      <td>60 to 64 years</td>\n      <td>$60,000 to $69,999</td>\n      <td>$90,000 to $99,999</td>\n      <td>V8A3P8</td>\n    </tr>\n    <tr>\n      <td>3</td>\n      <td>65 years and over</td>\n      <td>$30,000 to $39,999</td>\n      <td>$30,000 to $34,999</td>\n      <td>V8A3P8</td>\n    </tr>\n    <tr>\n      <td>4</td>\n      <td>65 years and over</td>\n      <td>Under $10,000 (including loss)</td>\n      <td>$45,000 to $49,999</td>\n      <td>V8A3P8</td>\n    </tr>\n  </tbody>\n</table>\n</div>"
      ],
      "text/plain": [
       "                 Age                          Income       Family Income  \\\n0     40 to 44 years              $20,000 to $29,999  $25,000 to $29,999   \n1     55 to 59 years              $10,000 to $19,999  $15,000 to $19,999   \n2     60 to 64 years              $60,000 to $69,999  $90,000 to $99,999   \n3  65 years and over              $30,000 to $39,999  $30,000 to $34,999   \n4  65 years and over  Under $10,000 (including loss)  $45,000 to $49,999   \n\n  PostCode  \n0   V8A3P8  \n1   V8A3P8  \n2   V8A3P8  \n3   V8A3P8  \n4   V8A3P8  "
      ]
     },
     "execution_count": 37,
     "metadata": {},
     "output_type": "execute_result"
    }
   ],
   "source": [
    "df_ordinal.head()"
   ]
  },
  {
   "cell_type": "code",
   "execution_count": 38,
   "metadata": {
    "autoscroll": false,
    "collapsed": false,
    "ein.hycell": false,
    "ein.tags": "worksheet-0",
    "slideshow": {
     "slide_type": "-"
    }
   },
   "outputs": [
    {
     "data": {
      "text/plain": [
       "array(['$20,000 to $29,999', '$10,000 to $19,999', '$60,000 to $69,999',\n       '$30,000 to $39,999', 'Under $10,000 (including loss)',\n       '$40,000 to $49,999', '$70,000 to $79,999', '$50,000 to $59,999',\n       '$100,000 to $149,999', '$80,000 to $89,999', '$90,000 to $99,999',\n       '$150,000 and over'], dtype=object)"
      ]
     },
     "execution_count": 38,
     "metadata": {},
     "output_type": "execute_result"
    }
   ],
   "source": [
    "data_demo['Income'].unique()"
   ]
  },
  {
   "cell_type": "code",
   "execution_count": 39,
   "metadata": {
    "autoscroll": false,
    "collapsed": false,
    "ein.hycell": false,
    "ein.tags": "worksheet-0",
    "slideshow": {
     "slide_type": "-"
    }
   },
   "outputs": [
    {
     "data": {
      "text/plain": [
       "array(['$25,000 to $29,999', '$15,000 to $19,999', '$90,000 to $99,999',\n       '$30,000 to $34,999', '$45,000 to $49,999', '$50,000 to $59,999',\n       '$35,000 to $39,999', '$70,000 to $79,999', '$100,000 to $124,999',\n       '$20,000 to $24,999', '$150,000 to $199,999',\n       '$125,000 to $149,999', '$200,000 and over', '$60,000 to $69,999',\n       '$80,000 to $89,999', 'Under $5,000', '$5,000 to $9,999',\n       '$10,000 to $14,999', '$40,000 to $44,999'], dtype=object)"
      ]
     },
     "execution_count": 39,
     "metadata": {},
     "output_type": "execute_result"
    }
   ],
   "source": [
    "data_demo['Family Income'].unique()"
   ]
  },
  {
   "cell_type": "code",
   "execution_count": 40,
   "metadata": {
    "autoscroll": false,
    "collapsed": false,
    "ein.hycell": false,
    "ein.tags": "worksheet-0",
    "slideshow": {
     "slide_type": "-"
    }
   },
   "outputs": [
    {
     "data": {
      "text/plain": [
       "array(['40 to 44 years', '55 to 59 years', '60 to 64 years',\n       '65 years and over', '25 to 29 years', '20 to 24 years',\n       '30 to 34 years', '45 to 49 years', '50 to 54 years',\n       '35 to 39 years'], dtype=object)"
      ]
     },
     "execution_count": 40,
     "metadata": {},
     "output_type": "execute_result"
    }
   ],
   "source": [
    "data_demo['Age'].unique()\n"
   ]
  },
  {
   "cell_type": "code",
   "execution_count": 42,
   "metadata": {
    "autoscroll": false,
    "collapsed": false,
    "ein.hycell": false,
    "ein.tags": "worksheet-0",
    "slideshow": {
     "slide_type": "-"
    }
   },
   "outputs": [],
   "source": [
    "ordered_age = {\n",
    "    \"Age\": {\n",
    "        '20 to 24 years': 1,\n",
    "        '25 to 29 years': 2,\n",
    "        '30 to 34 years': 3,\n",
    "        '35 to 39 years': 4,\n",
    "        '40 to 44 years': 5,\n",
    "        '45 to 49 years': 6,\n",
    "        '50 to 54 years': 7,\n",
    "        '55 to 59 years': 8,\n",
    "        '60 to 64 years': 9,\n",
    "        '65 years and over': 10,\n",
    "    }\n",
    "}\n",
    "\n",
    "ordered_income = {\n",
    "    \"Income\": {\n",
    "        'Under $10,000 (including loss)': 1,\n",
    "        '$10,000 to $19,999': 2,\n",
    "        '$20,000 to $29,999': 3,\n",
    "        '$30,000 to $39,999': 4,\n",
    "        '$40,000 to $49,999': 5,\n",
    "        '$50,000 to $59,999': 6,\n",
    "        '$60,000 to $69,999': 7,\n",
    "        '$70,000 to $79,999': 8,\n",
    "        '$80,000 to $89,999': 9,\n",
    "        '$90,000 to $99,999': 10,\n",
    "        '$100,000 to $149,999': 11,\n",
    "        '$150,000 and over': 12\n",
    "    }\n",
    "}\n",
    "\n",
    "ordered_family_income = {\n",
    "    \"Family Income\": {\n",
    "        'Under $5,000': 1,\n",
    "        '$5,000 to $9,999': 2,\n",
    "        '$10,000 to $14,999': 3,\n",
    "        '$15,000 to $19,999': 4,\n",
    "        '$20,000 to $24,999': 5,\n",
    "        '$25,000 to $29,999': 6,\n",
    "        '$30,000 to $34,999': 7,\n",
    "        '$35,000 to $39,999': 8,\n",
    "        '$40,000 to $44,999': 9,\n",
    "        '$45,000 to $49,999': 10,\n",
    "        '$50,000 to $59,999': 12,\n",
    "        '$60,000 to $69,999': 14,\n",
    "        '$70,000 to $79,999': 16,\n",
    "        '$80,000 to $89,999': 18,\n",
    "        '$90,000 to $99,999': 20,\n",
    "        '$100,000 to $124,999': 25,\n",
    "        '$125,000 to $149,999': 30,\n",
    "        '$150,000 to $199,999': 40,\n",
    "        '$200,000 and over': 50,\n",
    "    }\n",
    "}"
   ]
  },
  {
   "cell_type": "code",
   "execution_count": 45,
   "metadata": {
    "autoscroll": false,
    "collapsed": false,
    "ein.hycell": false,
    "ein.tags": "worksheet-0",
    "slideshow": {
     "slide_type": "-"
    }
   },
   "outputs": [],
   "source": [
    "df_ordinal.replace(ordered_age, inplace=True)\n",
    "df_ordinal.replace(ordered_income, inplace=True)\n",
    "df_ordinal.replace(ordered_family_income, inplace=True)"
   ]
  },
  {
   "cell_type": "code",
   "execution_count": 46,
   "metadata": {
    "autoscroll": false,
    "collapsed": false,
    "ein.hycell": false,
    "ein.tags": "worksheet-0",
    "slideshow": {
     "slide_type": "-"
    }
   },
   "outputs": [
    {
     "data": {
      "text/html": [
       "<div>\n<style scoped>\n    .dataframe tbody tr th:only-of-type {\n        vertical-align: middle;\n    }\n\n    .dataframe tbody tr th {\n        vertical-align: top;\n    }\n\n    .dataframe thead th {\n        text-align: right;\n    }\n</style>\n<table border=\"1\" class=\"dataframe\">\n  <thead>\n    <tr style=\"text-align: right;\">\n      <th></th>\n      <th>Age</th>\n      <th>Income</th>\n      <th>Family Income</th>\n      <th>PostCode</th>\n    </tr>\n  </thead>\n  <tbody>\n    <tr>\n      <td>0</td>\n      <td>5</td>\n      <td>3</td>\n      <td>6</td>\n      <td>V8A3P8</td>\n    </tr>\n    <tr>\n      <td>1</td>\n      <td>8</td>\n      <td>2</td>\n      <td>4</td>\n      <td>V8A3P8</td>\n    </tr>\n    <tr>\n      <td>2</td>\n      <td>9</td>\n      <td>7</td>\n      <td>20</td>\n      <td>V8A3P8</td>\n    </tr>\n    <tr>\n      <td>3</td>\n      <td>10</td>\n      <td>4</td>\n      <td>7</td>\n      <td>V8A3P8</td>\n    </tr>\n    <tr>\n      <td>4</td>\n      <td>10</td>\n      <td>1</td>\n      <td>10</td>\n      <td>V8A3P8</td>\n    </tr>\n  </tbody>\n</table>\n</div>"
      ],
      "text/plain": [
       "   Age  Income  Family Income PostCode\n0    5       3              6   V8A3P8\n1    8       2              4   V8A3P8\n2    9       7             20   V8A3P8\n3   10       4              7   V8A3P8\n4   10       1             10   V8A3P8"
      ]
     },
     "execution_count": 46,
     "metadata": {},
     "output_type": "execute_result"
    }
   ],
   "source": [
    "df_ordinal.head()"
   ]
  },
  {
   "cell_type": "code",
   "execution_count": 49,
   "metadata": {
    "autoscroll": false,
    "collapsed": false,
    "ein.hycell": false,
    "ein.tags": "worksheet-0",
    "slideshow": {
     "slide_type": "-"
    }
   },
   "outputs": [],
   "source": [
    "\n",
    "df_ordinal_agg = df_ordinal.groupby(\"PostCode\").agg(\n",
    "    {\n",
    "        \"Age\": np.mean,\n",
    "        \"Income\": np.mean,\n",
    "        \"Family Income\": np.mean,\n",
    "    }\n",
    ")"
   ]
  },
  {
   "cell_type": "code",
   "execution_count": 50,
   "metadata": {
    "autoscroll": false,
    "collapsed": false,
    "ein.hycell": false,
    "ein.tags": "worksheet-0",
    "slideshow": {
     "slide_type": "-"
    }
   },
   "outputs": [
    {
     "data": {
      "text/html": [
       "<div>\n<style scoped>\n    .dataframe tbody tr th:only-of-type {\n        vertical-align: middle;\n    }\n\n    .dataframe tbody tr th {\n        vertical-align: top;\n    }\n\n    .dataframe thead th {\n        text-align: right;\n    }\n</style>\n<table border=\"1\" class=\"dataframe\">\n  <thead>\n    <tr style=\"text-align: right;\">\n      <th></th>\n      <th>Age</th>\n      <th>Income</th>\n      <th>Family Income</th>\n    </tr>\n    <tr>\n      <th>PostCode</th>\n      <th></th>\n      <th></th>\n      <th></th>\n    </tr>\n  </thead>\n  <tbody>\n    <tr>\n      <td>A0A0B7</td>\n      <td>7.000000</td>\n      <td>2.500000</td>\n      <td>20.000000</td>\n    </tr>\n    <tr>\n      <td>A0A0C2</td>\n      <td>8.500000</td>\n      <td>4.500000</td>\n      <td>10.000000</td>\n    </tr>\n    <tr>\n      <td>A0A1A0</td>\n      <td>7.754098</td>\n      <td>4.409836</td>\n      <td>15.491803</td>\n    </tr>\n    <tr>\n      <td>A0A1B0</td>\n      <td>6.710417</td>\n      <td>5.437500</td>\n      <td>21.708333</td>\n    </tr>\n    <tr>\n      <td>A0A1C0</td>\n      <td>6.196150</td>\n      <td>5.082493</td>\n      <td>22.048579</td>\n    </tr>\n  </tbody>\n</table>\n</div>"
      ],
      "text/plain": [
       "               Age    Income  Family Income\nPostCode                                   \nA0A0B7    7.000000  2.500000      20.000000\nA0A0C2    8.500000  4.500000      10.000000\nA0A1A0    7.754098  4.409836      15.491803\nA0A1B0    6.710417  5.437500      21.708333\nA0A1C0    6.196150  5.082493      22.048579"
      ]
     },
     "execution_count": 50,
     "metadata": {},
     "output_type": "execute_result"
    }
   ],
   "source": [
    "df_ordinal_agg.head()"
   ]
  },
  {
   "cell_type": "code",
   "execution_count": 51,
   "metadata": {
    "autoscroll": false,
    "collapsed": false,
    "ein.hycell": false,
    "ein.tags": "worksheet-0",
    "slideshow": {
     "slide_type": "-"
    }
   },
   "outputs": [
    {
     "name": "stdout",
     "output_type": "stream",
     "text": [
      "<class 'pandas.core.frame.DataFrame'>\n",
      "Index: 793779 entries, A0A0B7 to Y1A7A4\n",
      "Data columns (total 3 columns):\n",
      "Age              793779 non-null float64\n",
      "Income           793779 non-null float64\n",
      "Family Income    793779 non-null float64\n",
      "dtypes: float64(3)\n",
      "memory usage: 24.2+ MB\n"
     ]
    }
   ],
   "source": [
    "df_ordinal_agg.info()"
   ]
  },
  {
   "cell_type": "code",
   "execution_count": 52,
   "metadata": {
    "autoscroll": false,
    "collapsed": false,
    "ein.hycell": false,
    "ein.tags": "worksheet-0",
    "slideshow": {
     "slide_type": "-"
    }
   },
   "outputs": [],
   "source": [
    "df_agg = df_ordinal_agg.merge(df_numeric_agg, on='PostCode') \\\n",
    "                       .merge(df_nominal_agg, on='PostCode') \\\n",
    "                       .reset_index()"
   ]
  },
  {
   "cell_type": "code",
   "execution_count": 53,
   "metadata": {
    "autoscroll": false,
    "collapsed": false,
    "ein.hycell": false,
    "ein.tags": "worksheet-0",
    "slideshow": {
     "slide_type": "-"
    }
   },
   "outputs": [
    {
     "data": {
      "text/html": [
       "<div>\n<style scoped>\n    .dataframe tbody tr th:only-of-type {\n        vertical-align: middle;\n    }\n\n    .dataframe tbody tr th {\n        vertical-align: top;\n    }\n\n    .dataframe thead th {\n        text-align: right;\n    }\n</style>\n<table border=\"1\" class=\"dataframe\">\n  <thead>\n    <tr style=\"text-align: right;\">\n      <th></th>\n      <th>PostCode</th>\n      <th>Age</th>\n      <th>Income</th>\n      <th>Family Income</th>\n      <th>Family Size</th>\n      <th>Population Count</th>\n      <th>Immigration_Immigrants</th>\n      <th>Immigration_Native</th>\n      <th>Gender_Female</th>\n      <th>Gender_Male</th>\n      <th>...</th>\n      <th>Province_MB</th>\n      <th>Province_NB</th>\n      <th>Province_NL</th>\n      <th>Province_NS</th>\n      <th>Province_NT</th>\n      <th>Province_ON</th>\n      <th>Province_PE</th>\n      <th>Province_QC</th>\n      <th>Province_SK</th>\n      <th>Province_YT</th>\n    </tr>\n  </thead>\n  <tbody>\n    <tr>\n      <td>0</td>\n      <td>A0A0B7</td>\n      <td>7.000000</td>\n      <td>2.500000</td>\n      <td>20.000000</td>\n      <td>1.5</td>\n      <td>2</td>\n      <td>0.000000</td>\n      <td>1.000000</td>\n      <td>1.000000</td>\n      <td>0.000000</td>\n      <td>...</td>\n      <td>0.0</td>\n      <td>0.0</td>\n      <td>1.0</td>\n      <td>0.0</td>\n      <td>0.0</td>\n      <td>0.0</td>\n      <td>0.0</td>\n      <td>0.0</td>\n      <td>0.0</td>\n      <td>0.0</td>\n    </tr>\n    <tr>\n      <td>1</td>\n      <td>A0A0C2</td>\n      <td>8.500000</td>\n      <td>4.500000</td>\n      <td>10.000000</td>\n      <td>1.5</td>\n      <td>2</td>\n      <td>0.000000</td>\n      <td>1.000000</td>\n      <td>0.000000</td>\n      <td>1.000000</td>\n      <td>...</td>\n      <td>0.0</td>\n      <td>0.0</td>\n      <td>1.0</td>\n      <td>0.0</td>\n      <td>0.0</td>\n      <td>0.0</td>\n      <td>0.0</td>\n      <td>0.0</td>\n      <td>0.0</td>\n      <td>0.0</td>\n    </tr>\n    <tr>\n      <td>2</td>\n      <td>A0A1A0</td>\n      <td>7.754098</td>\n      <td>4.409836</td>\n      <td>15.491803</td>\n      <td>2.0</td>\n      <td>61</td>\n      <td>0.065574</td>\n      <td>0.934426</td>\n      <td>0.475410</td>\n      <td>0.524590</td>\n      <td>...</td>\n      <td>0.0</td>\n      <td>0.0</td>\n      <td>1.0</td>\n      <td>0.0</td>\n      <td>0.0</td>\n      <td>0.0</td>\n      <td>0.0</td>\n      <td>0.0</td>\n      <td>0.0</td>\n      <td>0.0</td>\n    </tr>\n    <tr>\n      <td>3</td>\n      <td>A0A1B0</td>\n      <td>6.710417</td>\n      <td>5.437500</td>\n      <td>21.708333</td>\n      <td>2.0</td>\n      <td>480</td>\n      <td>0.016667</td>\n      <td>0.983333</td>\n      <td>0.500000</td>\n      <td>0.500000</td>\n      <td>...</td>\n      <td>0.0</td>\n      <td>0.0</td>\n      <td>1.0</td>\n      <td>0.0</td>\n      <td>0.0</td>\n      <td>0.0</td>\n      <td>0.0</td>\n      <td>0.0</td>\n      <td>0.0</td>\n      <td>0.0</td>\n    </tr>\n    <tr>\n      <td>4</td>\n      <td>A0A1C0</td>\n      <td>6.196150</td>\n      <td>5.082493</td>\n      <td>22.048579</td>\n      <td>2.0</td>\n      <td>1091</td>\n      <td>0.012832</td>\n      <td>0.987168</td>\n      <td>0.511457</td>\n      <td>0.488543</td>\n      <td>...</td>\n      <td>0.0</td>\n      <td>0.0</td>\n      <td>1.0</td>\n      <td>0.0</td>\n      <td>0.0</td>\n      <td>0.0</td>\n      <td>0.0</td>\n      <td>0.0</td>\n      <td>0.0</td>\n      <td>0.0</td>\n    </tr>\n  </tbody>\n</table>\n<p>5 rows × 58 columns</p>\n</div>"
      ],
      "text/plain": [
       "  PostCode       Age    Income  Family Income  Family Size  Population Count  \\\n0   A0A0B7  7.000000  2.500000      20.000000          1.5                 2   \n1   A0A0C2  8.500000  4.500000      10.000000          1.5                 2   \n2   A0A1A0  7.754098  4.409836      15.491803          2.0                61   \n3   A0A1B0  6.710417  5.437500      21.708333          2.0               480   \n4   A0A1C0  6.196150  5.082493      22.048579          2.0              1091   \n\n   Immigration_Immigrants  Immigration_Native  Gender_Female  Gender_Male  \\\n0                0.000000            1.000000       1.000000     0.000000   \n1                0.000000            1.000000       0.000000     1.000000   \n2                0.065574            0.934426       0.475410     0.524590   \n3                0.016667            0.983333       0.500000     0.500000   \n4                0.012832            0.987168       0.511457     0.488543   \n\n   ...  Province_MB  Province_NB  Province_NL  Province_NS  Province_NT  \\\n0  ...          0.0          0.0          1.0          0.0          0.0   \n1  ...          0.0          0.0          1.0          0.0          0.0   \n2  ...          0.0          0.0          1.0          0.0          0.0   \n3  ...          0.0          0.0          1.0          0.0          0.0   \n4  ...          0.0          0.0          1.0          0.0          0.0   \n\n   Province_ON  Province_PE  Province_QC  Province_SK  Province_YT  \n0          0.0          0.0          0.0          0.0          0.0  \n1          0.0          0.0          0.0          0.0          0.0  \n2          0.0          0.0          0.0          0.0          0.0  \n3          0.0          0.0          0.0          0.0          0.0  \n4          0.0          0.0          0.0          0.0          0.0  \n\n[5 rows x 58 columns]"
      ]
     },
     "execution_count": 53,
     "metadata": {},
     "output_type": "execute_result"
    }
   ],
   "source": [
    "df_agg.head()"
   ]
  },
  {
   "cell_type": "code",
   "execution_count": 54,
   "metadata": {
    "autoscroll": false,
    "collapsed": false,
    "ein.hycell": false,
    "ein.tags": "worksheet-0",
    "slideshow": {
     "slide_type": "-"
    }
   },
   "outputs": [],
   "source": [
    "df_agg.to_csv(\"data/demographics_agg.csv\", index=False)"
   ]
  },
  {
   "cell_type": "code",
   "execution_count": null,
   "metadata": {
    "autoscroll": false,
    "collapsed": false,
    "ein.hycell": false,
    "ein.tags": "worksheet-0",
    "slideshow": {
     "slide_type": "-"
    }
   },
   "outputs": [],
   "source": []
  }
 ],
 "metadata": {
  "kernelspec": {
   "argv": [
    "python",
    "-m",
    "ipykernel_launcher",
    "-f",
    "{connection_file}"
   ],
   "display_name": "Python 3",
   "env": null,
   "interrupt_mode": "signal",
   "language": "python",
   "metadata": null,
   "name": "python3"
  },
  "language_info": {
   "codemirror_mode": {
    "name": "ipython",
    "version": 3
   },
   "file_extension": ".py",
   "mimetype": "text/x-python",
   "name": "python",
   "nbconvert_exporter": "python",
   "pygments_lexer": "ipython3",
   "version": "3.7.3"
  },
  "name": "demographics_data_preprocessing_1.ipynb"
 },
 "nbformat": 4,
 "nbformat_minor": 2
}
