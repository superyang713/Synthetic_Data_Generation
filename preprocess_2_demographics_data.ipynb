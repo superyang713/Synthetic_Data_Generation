{
 "cells": [
  {
   "cell_type": "code",
   "execution_count": 1,
   "metadata": {},
   "outputs": [],
   "source": [
    "import pandas as pd\n",
    "import numpy as np"
   ]
  },
  {
   "cell_type": "code",
   "execution_count": 2,
   "metadata": {},
   "outputs": [],
   "source": [
    "df = pd.read_csv(\"data/demographics_1.csv\")\n",
    "df.dropna(how=\"any\", axis=0, inplace=True)\n",
    "# The following code is used for sampling and testing before on run the actual sample\n",
    "# df = df.sample(frac=0.005, replace=False, random_state=1)"
   ]
  },
  {
   "cell_type": "code",
   "execution_count": 3,
   "metadata": {
    "scrolled": true
   },
   "outputs": [
    {
     "name": "stdout",
     "output_type": "stream",
     "text": [
      "<class 'pandas.core.frame.DataFrame'>\n",
      "Int64Index: 29110932 entries, 0 to 29115180\n",
      "Data columns (total 16 columns):\n",
      "PostCode          object\n",
      "Ethnicity         object\n",
      "Religion          object\n",
      "Language          object\n",
      "Immigration       object\n",
      "Commute           object\n",
      "Marital Status    object\n",
      "Family Size       object\n",
      "Dwelling          object\n",
      "Ownership         object\n",
      "Education         object\n",
      "Profession        object\n",
      "Income            int64\n",
      "Family Income     float64\n",
      "Age               object\n",
      "Gender            object\n",
      "dtypes: float64(1), int64(1), object(14)\n",
      "memory usage: 3.7+ GB\n"
     ]
    }
   ],
   "source": [
    "df.info()"
   ]
  },
  {
   "cell_type": "markdown",
   "metadata": {},
   "source": [
    "## Select features that are potentially correlated with the feature (number of trades) from the aggregated data, and are easily aggregated as well (nominal features that only have two categories).\n",
    "The candadites are:\n",
    "1. Immigration -- nominal\n",
    "2. Gender -- nominal\n",
    "3. Ownership -- nominal\n",
    "4. Dwelling -- nominal\n",
    "5. Education -- nominal\n",
    "6. ethnicity -- nominal\n",
    "7. Commute -- nominal\n",
    "8. Marital Status\n",
    "\n",
    "\n",
    "9. Age -- ordinal\n",
    "\n",
    "\n",
    "10. Income -- numeric\n",
    "11. Family Size -- numeric\n",
    "12. Family Income -- numeric\n",
    "\n",
    "**Remove the following columns.**"
   ]
  },
  {
   "cell_type": "code",
   "execution_count": 4,
   "metadata": {},
   "outputs": [],
   "source": [
    "removed_cols = [\"Religion\", \"Language\", \"Profession\"]\n",
    "df.drop(removed_cols, inplace=True, axis=1)"
   ]
  },
  {
   "cell_type": "code",
   "execution_count": 5,
   "metadata": {},
   "outputs": [],
   "source": [
    "index = [\"PostCode\"]\n",
    "\n",
    "nominal_col = [\n",
    "    \"Immigration\", \"Gender\", \"Ownership\", \"Dwelling\", \n",
    "    \"Education\", \"Ethnicity\", \"Commute\", \"Marital Status\",\n",
    "]\n",
    "\n",
    "ordinal_col = [\"Age\"]\n",
    "\n",
    "numeric_col = [\"Income\", \"Family Size\", \"Family Income\"]"
   ]
  },
  {
   "cell_type": "markdown",
   "metadata": {},
   "source": [
    "## Aggregate norminal data"
   ]
  },
  {
   "cell_type": "code",
   "execution_count": 6,
   "metadata": {},
   "outputs": [],
   "source": [
    "df_nominal = df[nominal_col + index]\n",
    "df_nominal = pd.get_dummies(df_nominal, columns=nominal_col)"
   ]
  },
  {
   "cell_type": "code",
   "execution_count": 7,
   "metadata": {},
   "outputs": [
    {
     "name": "stdout",
     "output_type": "stream",
     "text": [
      "<class 'pandas.core.frame.DataFrame'>\n",
      "Int64Index: 29110932 entries, 0 to 29115180\n",
      "Data columns (total 53 columns):\n",
      "PostCode                                       object\n",
      "Immigration_Immigrants                         uint8\n",
      "Immigration_Non-immigrants                     uint8\n",
      "Gender_Female                                  uint8\n",
      "Gender_Male                                    uint8\n",
      "Ownership_Band housing                         uint8\n",
      "Ownership_Owned                                uint8\n",
      "Ownership_Rented                               uint8\n",
      "Dwelling_Apartment                             uint8\n",
      "Dwelling_Other                                 uint8\n",
      "Dwelling_Single-detached house                 uint8\n",
      "Education_Bachelor's degree                    uint8\n",
      "Education_College                              uint8\n",
      "Education_Degree in medicine & related         uint8\n",
      "Education_Doctorate                            uint8\n",
      "Education_Master's degree                      uint8\n",
      "Education_No certificate, diploma or degree    uint8\n",
      "Education_Postsecondary                        uint8\n",
      "Education_Secondary school                     uint8\n",
      "Ethnicity_Aboriginal                           uint8\n",
      "Ethnicity_African                              uint8\n",
      "Ethnicity_British                              uint8\n",
      "Ethnicity_Caribbean                            uint8\n",
      "Ethnicity_Chinese                              uint8\n",
      "Ethnicity_Eastern European                     uint8\n",
      "Ethnicity_Filipino                             uint8\n",
      "Ethnicity_French                               uint8\n",
      "Ethnicity_Indonesian                           uint8\n",
      "Ethnicity_Japanese                             uint8\n",
      "Ethnicity_Korean                               uint8\n",
      "Ethnicity_Latin, Central and South American    uint8\n",
      "Ethnicity_Malaysian                            uint8\n",
      "Ethnicity_Middle Eastern                       uint8\n",
      "Ethnicity_North American                       uint8\n",
      "Ethnicity_Northern European                    uint8\n",
      "Ethnicity_Oceania                              uint8\n",
      "Ethnicity_Other European origins               uint8\n",
      "Ethnicity_South Asian                          uint8\n",
      "Ethnicity_Southern European                    uint8\n",
      "Ethnicity_Vietnamese                           uint8\n",
      "Ethnicity_Western European                     uint8\n",
      "Commute_Bicycle                                uint8\n",
      "Commute_Car, truck, van - as a driver          uint8\n",
      "Commute_Car, truck, van - as a passenger       uint8\n",
      "Commute_Other method                           uint8\n",
      "Commute_Public transit                         uint8\n",
      "Commute_Walked                                 uint8\n",
      "Marital Status_Divorced                        uint8\n",
      "Marital Status_Living common law               uint8\n",
      "Marital Status_Married                         uint8\n",
      "Marital Status_Never married                   uint8\n",
      "Marital Status_Separated                       uint8\n",
      "Marital Status_Widowed                         uint8\n",
      "dtypes: object(1), uint8(52)\n",
      "memory usage: 1.8+ GB\n"
     ]
    }
   ],
   "source": [
    "df_nominal.info()"
   ]
  },
  {
   "cell_type": "code",
   "execution_count": 8,
   "metadata": {},
   "outputs": [],
   "source": [
    "df_nominal_agg = df_nominal.groupby(\"PostCode\").apply(lambda x: x.sum() / x.count())"
   ]
  },
  {
   "cell_type": "code",
   "execution_count": 9,
   "metadata": {},
   "outputs": [
    {
     "name": "stdout",
     "output_type": "stream",
     "text": [
      "<class 'pandas.core.frame.DataFrame'>\n",
      "Index: 793411 entries, A0A0B7 to Y1A7A4\n",
      "Data columns (total 52 columns):\n",
      "Immigration_Immigrants                         793411 non-null float64\n",
      "Immigration_Non-immigrants                     793411 non-null float64\n",
      "Gender_Female                                  793411 non-null float64\n",
      "Gender_Male                                    793411 non-null float64\n",
      "Ownership_Band housing                         793411 non-null float64\n",
      "Ownership_Owned                                793411 non-null float64\n",
      "Ownership_Rented                               793411 non-null float64\n",
      "Dwelling_Apartment                             793411 non-null float64\n",
      "Dwelling_Other                                 793411 non-null float64\n",
      "Dwelling_Single-detached house                 793411 non-null float64\n",
      "Education_Bachelor's degree                    793411 non-null float64\n",
      "Education_College                              793411 non-null float64\n",
      "Education_Degree in medicine & related         793411 non-null float64\n",
      "Education_Doctorate                            793411 non-null float64\n",
      "Education_Master's degree                      793411 non-null float64\n",
      "Education_No certificate, diploma or degree    793411 non-null float64\n",
      "Education_Postsecondary                        793411 non-null float64\n",
      "Education_Secondary school                     793411 non-null float64\n",
      "Ethnicity_Aboriginal                           793411 non-null float64\n",
      "Ethnicity_African                              793411 non-null float64\n",
      "Ethnicity_British                              793411 non-null float64\n",
      "Ethnicity_Caribbean                            793411 non-null float64\n",
      "Ethnicity_Chinese                              793411 non-null float64\n",
      "Ethnicity_Eastern European                     793411 non-null float64\n",
      "Ethnicity_Filipino                             793411 non-null float64\n",
      "Ethnicity_French                               793411 non-null float64\n",
      "Ethnicity_Indonesian                           793411 non-null float64\n",
      "Ethnicity_Japanese                             793411 non-null float64\n",
      "Ethnicity_Korean                               793411 non-null float64\n",
      "Ethnicity_Latin, Central and South American    793411 non-null float64\n",
      "Ethnicity_Malaysian                            793411 non-null float64\n",
      "Ethnicity_Middle Eastern                       793411 non-null float64\n",
      "Ethnicity_North American                       793411 non-null float64\n",
      "Ethnicity_Northern European                    793411 non-null float64\n",
      "Ethnicity_Oceania                              793411 non-null float64\n",
      "Ethnicity_Other European origins               793411 non-null float64\n",
      "Ethnicity_South Asian                          793411 non-null float64\n",
      "Ethnicity_Southern European                    793411 non-null float64\n",
      "Ethnicity_Vietnamese                           793411 non-null float64\n",
      "Ethnicity_Western European                     793411 non-null float64\n",
      "Commute_Bicycle                                793411 non-null float64\n",
      "Commute_Car, truck, van - as a driver          793411 non-null float64\n",
      "Commute_Car, truck, van - as a passenger       793411 non-null float64\n",
      "Commute_Other method                           793411 non-null float64\n",
      "Commute_Public transit                         793411 non-null float64\n",
      "Commute_Walked                                 793411 non-null float64\n",
      "Marital Status_Divorced                        793411 non-null float64\n",
      "Marital Status_Living common law               793411 non-null float64\n",
      "Marital Status_Married                         793411 non-null float64\n",
      "Marital Status_Never married                   793411 non-null float64\n",
      "Marital Status_Separated                       793411 non-null float64\n",
      "Marital Status_Widowed                         793411 non-null float64\n",
      "dtypes: float64(52)\n",
      "memory usage: 320.8+ MB\n"
     ]
    }
   ],
   "source": [
    "df_nominal_agg.info()"
   ]
  },
  {
   "cell_type": "markdown",
   "metadata": {},
   "source": [
    "## Preprocess and aggregate numeric data"
   ]
  },
  {
   "cell_type": "code",
   "execution_count": 10,
   "metadata": {},
   "outputs": [],
   "source": [
    "df_numeric = df[numeric_col + index]"
   ]
  },
  {
   "cell_type": "code",
   "execution_count": 11,
   "metadata": {},
   "outputs": [
    {
     "data": {
      "text/html": [
       "<div>\n",
       "<style scoped>\n",
       "    .dataframe tbody tr th:only-of-type {\n",
       "        vertical-align: middle;\n",
       "    }\n",
       "\n",
       "    .dataframe tbody tr th {\n",
       "        vertical-align: top;\n",
       "    }\n",
       "\n",
       "    .dataframe thead th {\n",
       "        text-align: right;\n",
       "    }\n",
       "</style>\n",
       "<table border=\"1\" class=\"dataframe\">\n",
       "  <thead>\n",
       "    <tr style=\"text-align: right;\">\n",
       "      <th></th>\n",
       "      <th>Income</th>\n",
       "      <th>Family Size</th>\n",
       "      <th>Family Income</th>\n",
       "      <th>PostCode</th>\n",
       "    </tr>\n",
       "  </thead>\n",
       "  <tbody>\n",
       "    <tr>\n",
       "      <th>0</th>\n",
       "      <td>34560</td>\n",
       "      <td>1 person</td>\n",
       "      <td>150658.0</td>\n",
       "      <td>E1V6V5</td>\n",
       "    </tr>\n",
       "    <tr>\n",
       "      <th>1</th>\n",
       "      <td>57785</td>\n",
       "      <td>2 persons</td>\n",
       "      <td>78950.0</td>\n",
       "      <td>E1V6V5</td>\n",
       "    </tr>\n",
       "    <tr>\n",
       "      <th>2</th>\n",
       "      <td>44055</td>\n",
       "      <td>1 person</td>\n",
       "      <td>111262.0</td>\n",
       "      <td>A0A0B7</td>\n",
       "    </tr>\n",
       "    <tr>\n",
       "      <th>3</th>\n",
       "      <td>35954</td>\n",
       "      <td>2 persons</td>\n",
       "      <td>64925.0</td>\n",
       "      <td>A0A0B7</td>\n",
       "    </tr>\n",
       "    <tr>\n",
       "      <th>4</th>\n",
       "      <td>59829</td>\n",
       "      <td>2 persons</td>\n",
       "      <td>154926.0</td>\n",
       "      <td>E4T0C1</td>\n",
       "    </tr>\n",
       "  </tbody>\n",
       "</table>\n",
       "</div>"
      ],
      "text/plain": [
       "   Income Family Size  Family Income PostCode\n",
       "0   34560    1 person       150658.0   E1V6V5\n",
       "1   57785   2 persons        78950.0   E1V6V5\n",
       "2   44055    1 person       111262.0   A0A0B7\n",
       "3   35954   2 persons        64925.0   A0A0B7\n",
       "4   59829   2 persons       154926.0   E4T0C1"
      ]
     },
     "execution_count": 11,
     "metadata": {},
     "output_type": "execute_result"
    }
   ],
   "source": [
    "df_numeric.head()"
   ]
  },
  {
   "cell_type": "code",
   "execution_count": 12,
   "metadata": {},
   "outputs": [
    {
     "name": "stderr",
     "output_type": "stream",
     "text": [
      "/home/superyang713/Environments/sharpestmind/lib/python3.7/site-packages/ipykernel_launcher.py:1: SettingWithCopyWarning: \n",
      "A value is trying to be set on a copy of a slice from a DataFrame.\n",
      "Try using .loc[row_indexer,col_indexer] = value instead\n",
      "\n",
      "See the caveats in the documentation: http://pandas.pydata.org/pandas-docs/stable/user_guide/indexing.html#returning-a-view-versus-a-copy\n",
      "  \"\"\"Entry point for launching an IPython kernel.\n",
      "/home/superyang713/Environments/sharpestmind/lib/python3.7/site-packages/ipykernel_launcher.py:2: SettingWithCopyWarning: \n",
      "A value is trying to be set on a copy of a slice from a DataFrame.\n",
      "Try using .loc[row_indexer,col_indexer] = value instead\n",
      "\n",
      "See the caveats in the documentation: http://pandas.pydata.org/pandas-docs/stable/user_guide/indexing.html#returning-a-view-versus-a-copy\n",
      "  \n"
     ]
    }
   ],
   "source": [
    "df_numeric[\"Family Size\"] = df_numeric[\"Family Size\"].str.split(\" \", expand=True)[0]\n",
    "df_numeric[\"Family Size\"] = pd.to_numeric(df_numeric[\"Family Size\"], errors=\"coerce\")"
   ]
  },
  {
   "cell_type": "code",
   "execution_count": 13,
   "metadata": {},
   "outputs": [],
   "source": [
    "df_numeric_agg = df_numeric.groupby(\"PostCode\").agg(\n",
    "    {\"Family Size\": np.median, \n",
    "     \"Income\": np.mean,\n",
    "     \"Family Income\": np.mean,\n",
    "    }\n",
    ")"
   ]
  },
  {
   "cell_type": "code",
   "execution_count": 14,
   "metadata": {},
   "outputs": [
    {
     "name": "stdout",
     "output_type": "stream",
     "text": [
      "<class 'pandas.core.frame.DataFrame'>\n",
      "Index: 793411 entries, A0A0B7 to Y1A7A4\n",
      "Data columns (total 3 columns):\n",
      "Family Size      793411 non-null float64\n",
      "Income           793411 non-null float64\n",
      "Family Income    793411 non-null float64\n",
      "dtypes: float64(3)\n",
      "memory usage: 24.2+ MB\n"
     ]
    }
   ],
   "source": [
    "df_numeric_agg.info()"
   ]
  },
  {
   "cell_type": "markdown",
   "metadata": {},
   "source": [
    "## Preprocess and aggregate ordinal columns"
   ]
  },
  {
   "cell_type": "code",
   "execution_count": 15,
   "metadata": {},
   "outputs": [],
   "source": [
    "df_ordinal = df[ordinal_col + index]"
   ]
  },
  {
   "cell_type": "code",
   "execution_count": 16,
   "metadata": {},
   "outputs": [
    {
     "data": {
      "text/html": [
       "<div>\n",
       "<style scoped>\n",
       "    .dataframe tbody tr th:only-of-type {\n",
       "        vertical-align: middle;\n",
       "    }\n",
       "\n",
       "    .dataframe tbody tr th {\n",
       "        vertical-align: top;\n",
       "    }\n",
       "\n",
       "    .dataframe thead th {\n",
       "        text-align: right;\n",
       "    }\n",
       "</style>\n",
       "<table border=\"1\" class=\"dataframe\">\n",
       "  <thead>\n",
       "    <tr style=\"text-align: right;\">\n",
       "      <th></th>\n",
       "      <th>Age</th>\n",
       "      <th>PostCode</th>\n",
       "    </tr>\n",
       "  </thead>\n",
       "  <tbody>\n",
       "    <tr>\n",
       "      <th>0</th>\n",
       "      <td>25 to 29 years</td>\n",
       "      <td>E1V6V5</td>\n",
       "    </tr>\n",
       "    <tr>\n",
       "      <th>1</th>\n",
       "      <td>45 to 49 years</td>\n",
       "      <td>E1V6V5</td>\n",
       "    </tr>\n",
       "    <tr>\n",
       "      <th>2</th>\n",
       "      <td>30 to 34 years</td>\n",
       "      <td>A0A0B7</td>\n",
       "    </tr>\n",
       "    <tr>\n",
       "      <th>3</th>\n",
       "      <td>35 to 39 years</td>\n",
       "      <td>A0A0B7</td>\n",
       "    </tr>\n",
       "    <tr>\n",
       "      <th>4</th>\n",
       "      <td>60 to 64 years</td>\n",
       "      <td>E4T0C1</td>\n",
       "    </tr>\n",
       "  </tbody>\n",
       "</table>\n",
       "</div>"
      ],
      "text/plain": [
       "              Age PostCode\n",
       "0  25 to 29 years   E1V6V5\n",
       "1  45 to 49 years   E1V6V5\n",
       "2  30 to 34 years   A0A0B7\n",
       "3  35 to 39 years   A0A0B7\n",
       "4  60 to 64 years   E4T0C1"
      ]
     },
     "execution_count": 16,
     "metadata": {},
     "output_type": "execute_result"
    }
   ],
   "source": [
    "df_ordinal.head()"
   ]
  },
  {
   "cell_type": "code",
   "execution_count": 17,
   "metadata": {},
   "outputs": [
    {
     "name": "stderr",
     "output_type": "stream",
     "text": [
      "/home/superyang713/Environments/sharpestmind/lib/python3.7/site-packages/pandas/core/generic.py:6704: SettingWithCopyWarning: \n",
      "A value is trying to be set on a copy of a slice from a DataFrame.\n",
      "Try using .loc[row_indexer,col_indexer] = value instead\n",
      "\n",
      "See the caveats in the documentation: http://pandas.pydata.org/pandas-docs/stable/user_guide/indexing.html#returning-a-view-versus-a-copy\n",
      "  regex=regex,\n"
     ]
    }
   ],
   "source": [
    "ordered_age = {\n",
    "    \"Age\": {\n",
    "        '20 to 24 years': 1,\n",
    "        '25 to 29 years': 2, \n",
    "        '30 to 34 years': 3, \n",
    "        '35 to 39 years': 4,\n",
    "        '40 to 44 years': 5,\n",
    "        '45 to 49 years': 6,\n",
    "        '50 to 54 years': 7, \n",
    "        '55 to 59 years': 8,\n",
    "        '60 to 64 years': 9,\n",
    "        '65 years and over': 10, \n",
    "    }\n",
    "}\n",
    "df_ordinal.replace(ordered_age, inplace=True)"
   ]
  },
  {
   "cell_type": "code",
   "execution_count": 18,
   "metadata": {},
   "outputs": [
    {
     "name": "stderr",
     "output_type": "stream",
     "text": [
      "/home/superyang713/Environments/sharpestmind/lib/python3.7/site-packages/ipykernel_launcher.py:1: SettingWithCopyWarning: \n",
      "A value is trying to be set on a copy of a slice from a DataFrame.\n",
      "Try using .loc[row_indexer,col_indexer] = value instead\n",
      "\n",
      "See the caveats in the documentation: http://pandas.pydata.org/pandas-docs/stable/user_guide/indexing.html#returning-a-view-versus-a-copy\n",
      "  \"\"\"Entry point for launching an IPython kernel.\n"
     ]
    }
   ],
   "source": [
    "df_ordinal[\"Age\"] = pd.to_numeric(df_ordinal[\"Age\"], errors=\"coerce\")\n",
    "df_ordinal_agg = df_ordinal.groupby(\"PostCode\").agg(\n",
    "    {\"Age\": np.mean}\n",
    ")"
   ]
  },
  {
   "cell_type": "code",
   "execution_count": 19,
   "metadata": {},
   "outputs": [
    {
     "name": "stdout",
     "output_type": "stream",
     "text": [
      "<class 'pandas.core.frame.DataFrame'>\n",
      "Index: 793411 entries, A0A0B7 to Y1A7A4\n",
      "Data columns (total 1 columns):\n",
      "Age    793411 non-null float64\n",
      "dtypes: float64(1)\n",
      "memory usage: 12.1+ MB\n"
     ]
    }
   ],
   "source": [
    "df_ordinal_agg.info()"
   ]
  },
  {
   "cell_type": "code",
   "execution_count": 20,
   "metadata": {},
   "outputs": [],
   "source": [
    "df_agg = df_ordinal_agg.merge(df_numeric_agg, on='PostCode') \\\n",
    "                       .merge(df_nominal_agg, on='PostCode') \\\n",
    "                       .reset_index()"
   ]
  },
  {
   "cell_type": "code",
   "execution_count": 21,
   "metadata": {},
   "outputs": [
    {
     "data": {
      "text/html": [
       "<div>\n",
       "<style scoped>\n",
       "    .dataframe tbody tr th:only-of-type {\n",
       "        vertical-align: middle;\n",
       "    }\n",
       "\n",
       "    .dataframe tbody tr th {\n",
       "        vertical-align: top;\n",
       "    }\n",
       "\n",
       "    .dataframe thead th {\n",
       "        text-align: right;\n",
       "    }\n",
       "</style>\n",
       "<table border=\"1\" class=\"dataframe\">\n",
       "  <thead>\n",
       "    <tr style=\"text-align: right;\">\n",
       "      <th></th>\n",
       "      <th>PostCode</th>\n",
       "      <th>Age</th>\n",
       "      <th>Family Size</th>\n",
       "      <th>Income</th>\n",
       "      <th>Family Income</th>\n",
       "      <th>Immigration_Immigrants</th>\n",
       "      <th>Immigration_Non-immigrants</th>\n",
       "      <th>Gender_Female</th>\n",
       "      <th>Gender_Male</th>\n",
       "      <th>Ownership_Band housing</th>\n",
       "      <th>...</th>\n",
       "      <th>Commute_Car, truck, van - as a passenger</th>\n",
       "      <th>Commute_Other method</th>\n",
       "      <th>Commute_Public transit</th>\n",
       "      <th>Commute_Walked</th>\n",
       "      <th>Marital Status_Divorced</th>\n",
       "      <th>Marital Status_Living common law</th>\n",
       "      <th>Marital Status_Married</th>\n",
       "      <th>Marital Status_Never married</th>\n",
       "      <th>Marital Status_Separated</th>\n",
       "      <th>Marital Status_Widowed</th>\n",
       "    </tr>\n",
       "  </thead>\n",
       "  <tbody>\n",
       "    <tr>\n",
       "      <th>0</th>\n",
       "      <td>A0A0B7</td>\n",
       "      <td>3.500000</td>\n",
       "      <td>1.5</td>\n",
       "      <td>40004.500000</td>\n",
       "      <td>88093.500000</td>\n",
       "      <td>0.000000</td>\n",
       "      <td>1.000000</td>\n",
       "      <td>0.500000</td>\n",
       "      <td>0.500000</td>\n",
       "      <td>0.0</td>\n",
       "      <td>...</td>\n",
       "      <td>0.000000</td>\n",
       "      <td>0.000000</td>\n",
       "      <td>0.000000</td>\n",
       "      <td>0.000000</td>\n",
       "      <td>0.000000</td>\n",
       "      <td>0.000000</td>\n",
       "      <td>1.000000</td>\n",
       "      <td>0.000000</td>\n",
       "      <td>0.000000</td>\n",
       "      <td>0.000000</td>\n",
       "    </tr>\n",
       "    <tr>\n",
       "      <th>1</th>\n",
       "      <td>A0A0C2</td>\n",
       "      <td>7.000000</td>\n",
       "      <td>1.5</td>\n",
       "      <td>42080.000000</td>\n",
       "      <td>104456.000000</td>\n",
       "      <td>0.000000</td>\n",
       "      <td>1.000000</td>\n",
       "      <td>0.500000</td>\n",
       "      <td>0.500000</td>\n",
       "      <td>0.0</td>\n",
       "      <td>...</td>\n",
       "      <td>0.000000</td>\n",
       "      <td>0.000000</td>\n",
       "      <td>0.000000</td>\n",
       "      <td>0.000000</td>\n",
       "      <td>0.000000</td>\n",
       "      <td>0.000000</td>\n",
       "      <td>0.500000</td>\n",
       "      <td>0.500000</td>\n",
       "      <td>0.000000</td>\n",
       "      <td>0.000000</td>\n",
       "    </tr>\n",
       "    <tr>\n",
       "      <th>2</th>\n",
       "      <td>A0A1A0</td>\n",
       "      <td>7.836066</td>\n",
       "      <td>1.0</td>\n",
       "      <td>40310.278689</td>\n",
       "      <td>93974.262295</td>\n",
       "      <td>0.049180</td>\n",
       "      <td>0.950820</td>\n",
       "      <td>0.475410</td>\n",
       "      <td>0.524590</td>\n",
       "      <td>0.0</td>\n",
       "      <td>...</td>\n",
       "      <td>0.049180</td>\n",
       "      <td>0.196721</td>\n",
       "      <td>0.032787</td>\n",
       "      <td>0.016393</td>\n",
       "      <td>0.049180</td>\n",
       "      <td>0.065574</td>\n",
       "      <td>0.590164</td>\n",
       "      <td>0.196721</td>\n",
       "      <td>0.032787</td>\n",
       "      <td>0.065574</td>\n",
       "    </tr>\n",
       "    <tr>\n",
       "      <th>3</th>\n",
       "      <td>A0A1B0</td>\n",
       "      <td>6.706250</td>\n",
       "      <td>1.0</td>\n",
       "      <td>63745.333333</td>\n",
       "      <td>131847.975000</td>\n",
       "      <td>0.010417</td>\n",
       "      <td>0.989583</td>\n",
       "      <td>0.502083</td>\n",
       "      <td>0.497917</td>\n",
       "      <td>0.0</td>\n",
       "      <td>...</td>\n",
       "      <td>0.097917</td>\n",
       "      <td>0.037500</td>\n",
       "      <td>0.037500</td>\n",
       "      <td>0.039583</td>\n",
       "      <td>0.039583</td>\n",
       "      <td>0.064583</td>\n",
       "      <td>0.718750</td>\n",
       "      <td>0.127083</td>\n",
       "      <td>0.010417</td>\n",
       "      <td>0.039583</td>\n",
       "    </tr>\n",
       "    <tr>\n",
       "      <th>4</th>\n",
       "      <td>A0A1C0</td>\n",
       "      <td>6.196150</td>\n",
       "      <td>1.0</td>\n",
       "      <td>55183.269478</td>\n",
       "      <td>123971.666361</td>\n",
       "      <td>0.009166</td>\n",
       "      <td>0.990834</td>\n",
       "      <td>0.511457</td>\n",
       "      <td>0.488543</td>\n",
       "      <td>0.0</td>\n",
       "      <td>...</td>\n",
       "      <td>0.059578</td>\n",
       "      <td>0.028414</td>\n",
       "      <td>0.000000</td>\n",
       "      <td>0.011916</td>\n",
       "      <td>0.019248</td>\n",
       "      <td>0.060495</td>\n",
       "      <td>0.778185</td>\n",
       "      <td>0.109074</td>\n",
       "      <td>0.013749</td>\n",
       "      <td>0.019248</td>\n",
       "    </tr>\n",
       "  </tbody>\n",
       "</table>\n",
       "<p>5 rows × 57 columns</p>\n",
       "</div>"
      ],
      "text/plain": [
       "  PostCode       Age  Family Size        Income  Family Income  \\\n",
       "0   A0A0B7  3.500000          1.5  40004.500000   88093.500000   \n",
       "1   A0A0C2  7.000000          1.5  42080.000000  104456.000000   \n",
       "2   A0A1A0  7.836066          1.0  40310.278689   93974.262295   \n",
       "3   A0A1B0  6.706250          1.0  63745.333333  131847.975000   \n",
       "4   A0A1C0  6.196150          1.0  55183.269478  123971.666361   \n",
       "\n",
       "   Immigration_Immigrants  Immigration_Non-immigrants  Gender_Female  \\\n",
       "0                0.000000                    1.000000       0.500000   \n",
       "1                0.000000                    1.000000       0.500000   \n",
       "2                0.049180                    0.950820       0.475410   \n",
       "3                0.010417                    0.989583       0.502083   \n",
       "4                0.009166                    0.990834       0.511457   \n",
       "\n",
       "   Gender_Male  Ownership_Band housing  ...  \\\n",
       "0     0.500000                     0.0  ...   \n",
       "1     0.500000                     0.0  ...   \n",
       "2     0.524590                     0.0  ...   \n",
       "3     0.497917                     0.0  ...   \n",
       "4     0.488543                     0.0  ...   \n",
       "\n",
       "   Commute_Car, truck, van - as a passenger  Commute_Other method  \\\n",
       "0                                  0.000000              0.000000   \n",
       "1                                  0.000000              0.000000   \n",
       "2                                  0.049180              0.196721   \n",
       "3                                  0.097917              0.037500   \n",
       "4                                  0.059578              0.028414   \n",
       "\n",
       "   Commute_Public transit  Commute_Walked  Marital Status_Divorced  \\\n",
       "0                0.000000        0.000000                 0.000000   \n",
       "1                0.000000        0.000000                 0.000000   \n",
       "2                0.032787        0.016393                 0.049180   \n",
       "3                0.037500        0.039583                 0.039583   \n",
       "4                0.000000        0.011916                 0.019248   \n",
       "\n",
       "   Marital Status_Living common law  Marital Status_Married  \\\n",
       "0                          0.000000                1.000000   \n",
       "1                          0.000000                0.500000   \n",
       "2                          0.065574                0.590164   \n",
       "3                          0.064583                0.718750   \n",
       "4                          0.060495                0.778185   \n",
       "\n",
       "   Marital Status_Never married  Marital Status_Separated  \\\n",
       "0                      0.000000                  0.000000   \n",
       "1                      0.500000                  0.000000   \n",
       "2                      0.196721                  0.032787   \n",
       "3                      0.127083                  0.010417   \n",
       "4                      0.109074                  0.013749   \n",
       "\n",
       "   Marital Status_Widowed  \n",
       "0                0.000000  \n",
       "1                0.000000  \n",
       "2                0.065574  \n",
       "3                0.039583  \n",
       "4                0.019248  \n",
       "\n",
       "[5 rows x 57 columns]"
      ]
     },
     "execution_count": 21,
     "metadata": {},
     "output_type": "execute_result"
    }
   ],
   "source": [
    "df_agg.head()"
   ]
  },
  {
   "cell_type": "code",
   "execution_count": 23,
   "metadata": {},
   "outputs": [],
   "source": [
    "df_agg.to_csv(\"data/demographics_6.csv\", index=False)"
   ]
  },
  {
   "cell_type": "code",
   "execution_count": null,
   "metadata": {},
   "outputs": [],
   "source": []
  }
 ],
 "metadata": {
  "kernelspec": {
   "display_name": "Python 3",
   "language": "python",
   "name": "python3"
  },
  "language_info": {
   "codemirror_mode": {
    "name": "ipython",
    "version": 3
   },
   "file_extension": ".py",
   "mimetype": "text/x-python",
   "name": "python",
   "nbconvert_exporter": "python",
   "pygments_lexer": "ipython3",
   "version": "3.7.3"
  }
 },
 "nbformat": 4,
 "nbformat_minor": 2
}
